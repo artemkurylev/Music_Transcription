{
 "cells": [
  {
   "cell_type": "code",
   "execution_count": 1,
   "metadata": {},
   "outputs": [
    {
     "name": "stdout",
     "output_type": "stream",
     "text": [
      "Successfully logged in to Weights & Biases!\n"
     ]
    },
    {
     "name": "stderr",
     "output_type": "stream",
     "text": [
      "wandb: Appending key for api.wandb.ai to your netrc file: C:\\Users\\130/.netrc\n"
     ]
    }
   ],
   "source": [
    "from comet_ml import Experiment\n",
    "import numpy as np\n",
    "import argparse\n",
    "from scipy import signal\n",
    "from midiutil.MidiFile import MIDIFile\n",
    "import matplotlib.pyplot as plt\n",
    "import soundfile\n",
    "import librosa\n",
    "import csv\n",
    "import time\n",
    "import h5py\n",
    "import pickle\n",
    "import os\n",
    "from sklearn import preprocessing\n",
    "from scipy.io import wavfile\n",
    "import pandas as pd\n",
    "from Repository.utils import constant\n",
    "from sklearn import metrics as sk_metrics\n",
    "from joblib import Parallel, delayed\n",
    "from librosa import display\n",
    "from librosa.display import specshow\n",
    "from sklearn.metrics import classification_report, roc_curve, auc\n",
    "from Repository.models.model import ANN\n",
    "from Repository.utils.utils import DataProcessor\n",
    "import wandb\n",
    "!wandb login a357c1b1a853443058bbe237eaba6a07f8e928a1"
   ]
  },
  {
   "cell_type": "code",
   "execution_count": 2,
   "metadata": {},
   "outputs": [],
   "source": [
    "from sklearn.model_selection import train_test_split\n",
    "import torch\n",
    "import torch.nn as nn\n",
    "import torch.nn.functional as F\n",
    "import torch.optim as optim\n",
    "from torch.utils.data import DataLoader"
   ]
  },
  {
   "cell_type": "code",
   "execution_count": 3,
   "metadata": {},
   "outputs": [],
   "source": [
    "def recursive_file_search(folder):\n",
    "    files = [os.path.join(folder, file) for file in os.listdir(folder) if os.path.isfile(os.path.join(folder, file))]\n",
    "    folders = [os.path.join(folder, file) for file in os.listdir(folder) if os.path.isdir(os.path.join(folder, file))]\n",
    "    if folders:\n",
    "        for next_folder in folders:\n",
    "            files.extend(recursive_file_search(next_folder))\n",
    "\n",
    "    return files\n"
   ]
  },
  {
   "cell_type": "code",
   "execution_count": 4,
   "metadata": {},
   "outputs": [],
   "source": [
    "path = 'MAPS/MAPS1/SptkBGAm/SptkBGAm/ISOL/CH/'"
   ]
  },
  {
   "cell_type": "code",
   "execution_count": 5,
   "metadata": {},
   "outputs": [],
   "source": [
    "dp = DataProcessor(path)"
   ]
  },
  {
   "cell_type": "code",
   "execution_count": 6,
   "metadata": {},
   "outputs": [],
   "source": [
    "dp.load_annotations()"
   ]
  },
  {
   "cell_type": "code",
   "execution_count": 7,
   "metadata": {},
   "outputs": [
    {
     "name": "stderr",
     "output_type": "stream",
     "text": [
      "[Parallel(n_jobs=-1)]: Using backend ThreadingBackend with 8 concurrent workers.\n",
      "[Parallel(n_jobs=-1)]: Done   2 out of   9 | elapsed:    3.1s remaining:   11.1s\n",
      "[Parallel(n_jobs=-1)]: Done   4 out of   9 | elapsed:    4.3s remaining:    5.4s\n",
      "[Parallel(n_jobs=-1)]: Done   6 out of   9 | elapsed:    4.4s remaining:    2.2s\n",
      "[Parallel(n_jobs=-1)]: Done   9 out of   9 | elapsed:    9.2s finished\n"
     ]
    }
   ],
   "source": [
    "dp.load_audios(sr=16000)"
   ]
  },
  {
   "cell_type": "code",
   "execution_count": 8,
   "metadata": {
    "scrolled": true
   },
   "outputs": [
    {
     "name": "stderr",
     "output_type": "stream",
     "text": [
      "[Parallel(n_jobs=-1)]: Using backend ThreadingBackend with 8 concurrent workers.\n",
      "[Parallel(n_jobs=-1)]: Done   2 out of   9 | elapsed:    0.0s remaining:    0.0s\n",
      "[Parallel(n_jobs=-1)]: Done   4 out of   9 | elapsed:    0.0s remaining:    0.0s\n",
      "[Parallel(n_jobs=-1)]: Done   6 out of   9 | elapsed:    0.0s remaining:    0.0s\n",
      "[Parallel(n_jobs=-1)]: Done   9 out of   9 | elapsed:    0.0s finished\n"
     ]
    }
   ],
   "source": [
    "dp.generate_cqts()\n",
    "X,y = dp.get_cqt_data(from_file=False,cnn=True)\n",
    "#dp.process_audios(from_file=False)\n",
    "#X,y = dp.get_cfp_data(from_file=False,cnn=True)"
   ]
  },
  {
   "cell_type": "code",
   "execution_count": 9,
   "metadata": {},
   "outputs": [],
   "source": [
    "X = X.reshape((X.shape[0], X.shape[3],X.shape[2],X.shape[1]))"
   ]
  },
  {
   "cell_type": "code",
   "execution_count": 10,
   "metadata": {},
   "outputs": [],
   "source": [
    "X_train, X_test, y_train, y_test = train_test_split(X,y,test_size=0.2)\n",
    "X_train = torch.from_numpy(np.array(X_train))\n",
    "X_test = torch.from_numpy(np.array(X_test))\n",
    "\n",
    "temp_train = []\n",
    "temp_test = []\n",
    "for i in y_train:\n",
    "    temp_train.append(i)\n",
    "for i in y_test:\n",
    "    temp_test.append(i)\n",
    "\n",
    "y_train = torch.tensor(temp_train)\n",
    "y_test = torch.tensor(temp_test)\n",
    "\n",
    "train_dataset = torch.utils.data.TensorDataset(X_train.float(), y_train)\n",
    "test_dataset = torch.utils.data.TensorDataset(X_test.float(), y_test)"
   ]
  },
  {
   "cell_type": "code",
   "execution_count": 11,
   "metadata": {},
   "outputs": [],
   "source": [
    "# Data loaders\n",
    "batch_size = 200\n",
    "train_loader = DataLoader(train_dataset,\n",
    "                          batch_size=batch_size, shuffle=False)\n",
    "test_loader = DataLoader(test_dataset,\n",
    "                         batch_size=batch_size, shuffle=False)"
   ]
  },
  {
   "cell_type": "code",
   "execution_count": 12,
   "metadata": {},
   "outputs": [],
   "source": [
    "# Testing model\n",
    "def test( class_predictor, device, test_loader):\n",
    "    class_predictor.eval()\n",
    "    test_loss = 0\n",
    "    correct = 0\n",
    "    with torch.no_grad():\n",
    "        for data, target in test_loader:\n",
    "            data = data.to(device)\n",
    "            labels = target\n",
    "            target =  labels.clone().detach().squeeze().to(device).long()\n",
    "            output = model(data.float())\n",
    "\n",
    "            correct += torch.round(torch.sigmoid(output)).eq(target).sum().item()\n",
    "    return 100. * correct / (len(test_loader.dataset) * 88)"
   ]
  },
  {
   "cell_type": "code",
   "execution_count": 13,
   "metadata": {},
   "outputs": [],
   "source": [
    "use_cuda = torch.cuda.is_available()\n",
    "device = torch.device(\"cuda\" if use_cuda else \"cpu\")"
   ]
  },
  {
   "cell_type": "code",
   "execution_count": 14,
   "metadata": {},
   "outputs": [],
   "source": [
    "def calculate_avg_accuracy(results, target):\n",
    "    correct = np.zeros(len(results[0]))\n",
    "    correct = np.add(correct,torch.eq(results,target).sum(dim=0).detach().cpu().numpy())\n",
    "    correct /= len(results)\n",
    "    return correct"
   ]
  },
  {
   "cell_type": "code",
   "execution_count": 15,
   "metadata": {},
   "outputs": [],
   "source": [
    "def eval(class_predictor,device,test_loader,threshold=0.5):\n",
    "    class_predictor.eval()\n",
    "    test_loss = 0\n",
    "    correct = 0\n",
    "    all_predicted = []\n",
    "    predicted_probs = []\n",
    "    one = torch.ones(1).to(device)\n",
    "    zero = torch.zeros(1).to(device)\n",
    "    with torch.no_grad():\n",
    "        for data, target in test_loader:\n",
    "            data = data.to(device)\n",
    "            labels = target\n",
    "            target = labels.clone().detach().squeeze().to(device).long()\n",
    "            output = class_predictor(data.float())\n",
    "            predicted = torch.where(torch.sigmoid(output)>threshold,one,zero).cpu().data.numpy().tolist()\n",
    "            predicted_probs.extend(torch.sigmoid(output).detach().cpu().numpy().tolist())\n",
    "            all_predicted.extend(predicted)\n",
    "    return all_predicted,predicted_probs"
   ]
  },
  {
   "cell_type": "code",
   "execution_count": 16,
   "metadata": {},
   "outputs": [],
   "source": [
    "def calc_f_score(class_predictor,device,test_loader,y_true,threshold=0.5, average='micro'):\n",
    "    predictions, probs = eval(class_predictor,device,test_loader,threshold)\n",
    "    predictions = np.array(predictions)\n",
    "    y_true = y_true.numpy()\n",
    "    score = sk_metrics.f1_score(y_true,predictions,average=average)\n",
    "    acc = sk_metrics.accuracy_score(y_true,predictions)\n",
    "    pr = sk_metrics.precision_score(y_true,predictions,average=average)\n",
    "    rec = sk_metrics.recall_score(y_true,predictions,average=average)\n",
    "    return score,acc, pr, rec"
   ]
  },
  {
   "cell_type": "code",
   "execution_count": 17,
   "metadata": {},
   "outputs": [],
   "source": [
    "class CNN(nn.Module):\n",
    "    def __init__(self):\n",
    "        super(CNN, self).__init__()\n",
    "        self.conv1 = nn.Sequential(\n",
    "            nn.Conv2d(1,32,(5,3)),\n",
    "            nn.SELU(),\n",
    "            nn.Conv2d(32,32,(1,3)),\n",
    "            nn.SELU(),\n",
    "            nn.MaxPool2d((2,1)),\n",
    "            nn.Dropout(0.5)\n",
    "        )\n",
    "        self.fc1 = nn.Sequential(\n",
    "            nn.Linear(32*40,512),\n",
    "            nn.SELU(),\n",
    "            nn.Dropout(0.5),\n",
    "            nn.Linear(512,512),\n",
    "            nn.SELU(),\n",
    "            nn.Dropout(0.5),\n",
    "            nn.Linear(512,88),\n",
    "        )\n",
    "        self.out = nn.Sigmoid()\n",
    "    def forward(self,x):\n",
    "        res = self.conv1(x)\n",
    "        res = res.view(-1,32*40)\n",
    "        res = self.fc1(res)\n",
    "        #res = self.out(res)\n",
    "        return res"
   ]
  },
  {
   "cell_type": "code",
   "execution_count": 18,
   "metadata": {},
   "outputs": [],
   "source": [
    "class DNN(nn.Module):\n",
    "    def __init__(self):\n",
    "        super(DNN, self).__init__()\n",
    "        self.fc1 = nn.Sequential(\n",
    "            nn.Dropout(0.25),\n",
    "            nn.Linear(550,512),\n",
    "            nn.SELU(),\n",
    "            nn.Dropout(0.5),\n",
    "            nn.Linear(512,512),\n",
    "            nn.SELU(),\n",
    "            nn.Dropout(0.5), \n",
    "            nn.Linear(512,88),\n",
    "        )\n",
    "        self.out = nn.Sigmoid()\n",
    "    def forward(self,x):\n",
    "        res = x.view(-1,550)\n",
    "        res = self.fc1(res)\n",
    "        \n",
    "        res = self.out(res)\n",
    "        return res"
   ]
  },
  {
   "cell_type": "code",
   "execution_count": 19,
   "metadata": {},
   "outputs": [],
   "source": [
    "def init_weights(m):\n",
    "    if type(m) == nn.Linear or type(m) == nn.Conv2d:\n",
    "        torch.nn.init.normal_(m.weight,0.0,0.05)"
   ]
  },
  {
   "cell_type": "code",
   "execution_count": 20,
   "metadata": {},
   "outputs": [],
   "source": [
    "model = CNN().to(device)#ANN(257,nn.SELU(),107).to(device)\n",
    "model.conv1.apply(init_weights)\n",
    "model.fc1.apply(init_weights)\n",
    "pos_weight = torch.Tensor([50]*88).to(device)\n",
    "optimizer = optim.Adam(model.parameters(),lr=0.01)"
   ]
  },
  {
   "cell_type": "code",
   "execution_count": 21,
   "metadata": {},
   "outputs": [],
   "source": [
    "from ignite.engine import Engine, _prepare_batch\n",
    "criterion = nn.BCELoss(reduction='mean')\n",
    "def process_function(engine, batch):\n",
    "    model.train()\n",
    "    optimizer.zero_grad()\n",
    "    x, y = _prepare_batch(batch, device=device)\n",
    "    y_pred = model(x)\n",
    "    loss = criterion(y_pred, y)\n",
    "    loss.backward()\n",
    "    optimizer.step()\n",
    "    return loss.item()\n",
    "\n",
    "trainer = Engine(process_function)"
   ]
  },
  {
   "cell_type": "code",
   "execution_count": 22,
   "metadata": {},
   "outputs": [],
   "source": [
    "from ignite.engine import Events\n",
    "\n",
    "log_interval = 200\n",
    "\n",
    "@trainer.on(Events.ITERATION_COMPLETED)\n",
    "def log_training_loss(engine):\n",
    "    iteration = (engine.state.iteration - 1) % len(train_loader) + 1\n",
    "    if iteration % log_interval == 0:\n",
    "        print(\"Epoch[{}] Iteration[{}/{}] Loss: {:.4f}\"\n",
    "              .format(engine.state.epoch, \n",
    "                         iteration, \n",
    "                         len(train_loader), \n",
    "                         engine.state.output))"
   ]
  },
  {
   "cell_type": "code",
   "execution_count": 27,
   "metadata": {
    "scrolled": true
   },
   "outputs": [
    {
     "name": "stdout",
     "output_type": "stream",
     "text": [
      "Accuracy is 96.95037105751393 on train_dataset \n",
      "\n",
      "Train Epoch: 50 [0/1375 (0%)]\tLoss: 0.303600\n",
      "Accuracy is 96.56679035250463 on train_dataset \n",
      "\n",
      "Train Epoch: 51 [0/1375 (0%)]\tLoss: 0.280799\n",
      "Accuracy is 96.50823283858998 on train_dataset \n",
      "\n",
      "Train Epoch: 52 [0/1375 (0%)]\tLoss: 0.287153\n",
      "Accuracy is 96.5211038961039 on train_dataset \n",
      "\n",
      "Train Epoch: 53 [0/1375 (0%)]\tLoss: 0.287761\n",
      "Accuracy is 96.81238404452691 on train_dataset \n",
      "\n",
      "Train Epoch: 54 [0/1375 (0%)]\tLoss: 0.285786\n",
      "Accuracy is 96.54510667903526 on train_dataset \n",
      "\n",
      "Train Epoch: 55 [0/1375 (0%)]\tLoss: 0.299776\n",
      "Accuracy is 96.5332792207792 on train_dataset \n",
      "\n",
      "Train Epoch: 56 [0/1375 (0%)]\tLoss: 0.284822\n",
      "Accuracy is 96.9383116883117 on train_dataset \n",
      "\n",
      "Train Epoch: 57 [0/1375 (0%)]\tLoss: 0.278449\n",
      "Accuracy is 96.97251855287571 on train_dataset \n",
      "\n",
      "Train Epoch: 58 [0/1375 (0%)]\tLoss: 0.283673\n",
      "Accuracy is 96.3964517625232 on train_dataset \n",
      "\n",
      "Train Epoch: 59 [0/1375 (0%)]\tLoss: 0.277166\n",
      "Accuracy is 96.41175788497218 on train_dataset \n",
      "\n",
      "Train Epoch: 60 [0/1375 (0%)]\tLoss: 0.260210\n",
      "Accuracy is 96.5060296846011 on train_dataset \n",
      "\n",
      "Train Epoch: 61 [0/1375 (0%)]\tLoss: 0.266308\n",
      "Accuracy is 96.6185064935065 on train_dataset \n",
      "\n",
      "Train Epoch: 62 [0/1375 (0%)]\tLoss: 0.271470\n",
      "Accuracy is 96.90711966604823 on train_dataset \n",
      "\n",
      "Train Epoch: 63 [0/1375 (0%)]\tLoss: 0.287034\n",
      "Accuracy is 96.79313543599257 on train_dataset \n",
      "\n",
      "Train Epoch: 64 [0/1375 (0%)]\tLoss: 0.265962\n",
      "Accuracy is 96.92300556586271 on train_dataset \n",
      "\n",
      "Train Epoch: 65 [0/1375 (0%)]\tLoss: 0.270553\n",
      "Accuracy is 96.8262987012987 on train_dataset \n",
      "\n",
      "Train Epoch: 66 [0/1375 (0%)]\tLoss: 0.244700\n",
      "Accuracy is 96.71660482374767 on train_dataset \n",
      "\n",
      "Train Epoch: 67 [0/1375 (0%)]\tLoss: 0.259235\n",
      "Accuracy is 96.8047309833024 on train_dataset \n",
      "\n",
      "Train Epoch: 68 [0/1375 (0%)]\tLoss: 0.263069\n",
      "Accuracy is 97.03339517625231 on train_dataset \n",
      "\n",
      "Train Epoch: 69 [0/1375 (0%)]\tLoss: 0.249901\n",
      "Accuracy is 96.63961038961038 on train_dataset \n",
      "\n",
      "Train Epoch: 70 [0/1375 (0%)]\tLoss: 0.260871\n",
      "Accuracy is 96.74942022263451 on train_dataset \n",
      "\n",
      "Train Epoch: 71 [0/1375 (0%)]\tLoss: 0.239879\n",
      "Accuracy is 96.83824211502784 on train_dataset \n",
      "\n",
      "Train Epoch: 72 [0/1375 (0%)]\tLoss: 0.258331\n",
      "Accuracy is 96.94561688311688 on train_dataset \n",
      "\n",
      "Train Epoch: 73 [0/1375 (0%)]\tLoss: 0.239201\n",
      "Accuracy is 97.0069573283859 on train_dataset \n",
      "\n",
      "Train Epoch: 74 [0/1375 (0%)]\tLoss: 0.243167\n",
      "Accuracy is 96.88300092764379 on train_dataset \n",
      "\n",
      "Train Epoch: 75 [0/1375 (0%)]\tLoss: 0.243837\n",
      "Accuracy is 97.10018552875695 on train_dataset \n",
      "\n",
      "Train Epoch: 76 [0/1375 (0%)]\tLoss: 0.248538\n",
      "Accuracy is 96.82339981447124 on train_dataset \n",
      "\n",
      "Train Epoch: 77 [0/1375 (0%)]\tLoss: 0.243832\n",
      "Accuracy is 96.78374304267162 on train_dataset \n",
      "\n",
      "Train Epoch: 78 [0/1375 (0%)]\tLoss: 0.233299\n",
      "Accuracy is 96.96011131725417 on train_dataset \n",
      "\n",
      "Train Epoch: 79 [0/1375 (0%)]\tLoss: 0.245192\n",
      "Accuracy is 96.93738404452688 on train_dataset \n",
      "\n",
      "Train Epoch: 80 [0/1375 (0%)]\tLoss: 0.232712\n",
      "Accuracy is 96.97333024118738 on train_dataset \n",
      "\n",
      "Train Epoch: 81 [0/1375 (0%)]\tLoss: 0.240366\n",
      "Accuracy is 97.10030148423004 on train_dataset \n",
      "\n",
      "Train Epoch: 82 [0/1375 (0%)]\tLoss: 0.240609\n",
      "Accuracy is 96.90317717996291 on train_dataset \n",
      "\n",
      "Train Epoch: 83 [0/1375 (0%)]\tLoss: 0.230757\n",
      "Accuracy is 96.7760899814471 on train_dataset \n",
      "\n",
      "Train Epoch: 84 [0/1375 (0%)]\tLoss: 0.232406\n",
      "Accuracy is 97.00336270871985 on train_dataset \n",
      "\n",
      "Train Epoch: 85 [0/1375 (0%)]\tLoss: 0.225729\n",
      "Accuracy is 96.64691558441557 on train_dataset \n",
      "\n",
      "Train Epoch: 86 [0/1375 (0%)]\tLoss: 0.250399\n",
      "Accuracy is 96.88995825602969 on train_dataset \n",
      "\n",
      "Train Epoch: 87 [0/1375 (0%)]\tLoss: 0.214660\n",
      "Accuracy is 97.09195269016698 on train_dataset \n",
      "\n",
      "Train Epoch: 88 [0/1375 (0%)]\tLoss: 0.224160\n",
      "Accuracy is 97.0831400742115 on train_dataset \n",
      "\n",
      "Train Epoch: 89 [0/1375 (0%)]\tLoss: 0.227412\n",
      "Accuracy is 97.00718923933209 on train_dataset \n",
      "\n",
      "Train Epoch: 90 [0/1375 (0%)]\tLoss: 0.217413\n",
      "Accuracy is 97.14552411873841 on train_dataset \n",
      "\n",
      "Train Epoch: 91 [0/1375 (0%)]\tLoss: 0.229444\n",
      "Accuracy is 96.75753710575138 on train_dataset \n",
      "\n",
      "Train Epoch: 92 [0/1375 (0%)]\tLoss: 0.250291\n",
      "Accuracy is 96.82873376623377 on train_dataset \n",
      "\n",
      "Train Epoch: 93 [0/1375 (0%)]\tLoss: 0.224701\n",
      "Accuracy is 97.11873840445267 on train_dataset \n",
      "\n",
      "Train Epoch: 94 [0/1375 (0%)]\tLoss: 0.213655\n",
      "Accuracy is 96.98538961038963 on train_dataset \n",
      "\n",
      "Train Epoch: 95 [0/1375 (0%)]\tLoss: 0.212739\n",
      "Accuracy is 96.99304267161409 on train_dataset \n",
      "\n",
      "Train Epoch: 96 [0/1375 (0%)]\tLoss: 0.209425\n",
      "Accuracy is 96.86375231910947 on train_dataset \n",
      "\n",
      "Train Epoch: 97 [0/1375 (0%)]\tLoss: 0.211547\n",
      "Accuracy is 97.14575602968462 on train_dataset \n",
      "\n",
      "Train Epoch: 98 [0/1375 (0%)]\tLoss: 0.205633\n",
      "Accuracy is 97.1318413729128 on train_dataset \n",
      "\n",
      "Train Epoch: 99 [0/1375 (0%)]\tLoss: 0.210884\n",
      "Accuracy is 97.11305658627087 on train_dataset \n",
      "\n",
      "Train Epoch: 100 [0/1375 (0%)]\tLoss: 0.220104\n",
      "Accuracy is 97.00139146567717 on train_dataset \n",
      "\n",
      "Train Epoch: 101 [0/1375 (0%)]\tLoss: 0.206472\n",
      "Accuracy is 97.16941094619666 on train_dataset \n",
      "\n",
      "Train Epoch: 102 [0/1375 (0%)]\tLoss: 0.218822\n",
      "Accuracy is 96.91465677179963 on train_dataset \n",
      "\n",
      "Train Epoch: 103 [0/1375 (0%)]\tLoss: 0.219549\n",
      "Accuracy is 97.15700371057513 on train_dataset \n",
      "\n",
      "Train Epoch: 104 [0/1375 (0%)]\tLoss: 0.206798\n",
      "Accuracy is 97.38601576994435 on train_dataset \n",
      "\n",
      "Train Epoch: 105 [0/1375 (0%)]\tLoss: 0.216534\n",
      "Accuracy is 97.0761827458256 on train_dataset \n",
      "\n",
      "Train Epoch: 106 [0/1375 (0%)]\tLoss: 0.204866\n",
      "Accuracy is 97.15480055658628 on train_dataset \n",
      "\n",
      "Train Epoch: 107 [0/1375 (0%)]\tLoss: 0.201916\n",
      "Accuracy is 97.10911410018554 on train_dataset \n",
      "\n",
      "Train Epoch: 108 [0/1375 (0%)]\tLoss: 0.191228\n",
      "Accuracy is 97.08151669758813 on train_dataset \n",
      "\n",
      "Train Epoch: 109 [0/1375 (0%)]\tLoss: 0.217517\n",
      "Accuracy is 97.22657699443414 on train_dataset \n",
      "\n",
      "Train Epoch: 110 [0/1375 (0%)]\tLoss: 0.181055\n",
      "Accuracy is 97.13949443413729 on train_dataset \n",
      "\n",
      "Train Epoch: 111 [0/1375 (0%)]\tLoss: 0.203914\n",
      "Accuracy is 97.19712430426716 on train_dataset \n",
      "\n",
      "Train Epoch: 112 [0/1375 (0%)]\tLoss: 0.191987\n",
      "Accuracy is 97.28211966604825 on train_dataset \n",
      "\n",
      "Train Epoch: 113 [0/1375 (0%)]\tLoss: 0.192861\n",
      "Accuracy is 97.09090909090908 on train_dataset \n",
      "\n",
      "Train Epoch: 114 [0/1375 (0%)]\tLoss: 0.188680\n",
      "Accuracy is 97.32908163265304 on train_dataset \n",
      "\n",
      "Train Epoch: 115 [0/1375 (0%)]\tLoss: 0.175259\n",
      "Accuracy is 97.40851113172542 on train_dataset \n",
      "\n",
      "Train Epoch: 116 [0/1375 (0%)]\tLoss: 0.188627\n",
      "Accuracy is 97.44805194805195 on train_dataset \n",
      "\n",
      "Train Epoch: 117 [0/1375 (0%)]\tLoss: 0.180116\n",
      "Accuracy is 97.25220315398887 on train_dataset \n",
      "\n",
      "Train Epoch: 118 [0/1375 (0%)]\tLoss: 0.184720\n",
      "Accuracy is 97.08858998144714 on train_dataset \n",
      "\n",
      "Train Epoch: 119 [0/1375 (0%)]\tLoss: 0.190799\n",
      "Accuracy is 97.3198051948052 on train_dataset \n",
      "\n",
      "Train Epoch: 120 [0/1375 (0%)]\tLoss: 0.183709\n",
      "Accuracy is 97.1463358070501 on train_dataset \n",
      "\n",
      "Train Epoch: 121 [0/1375 (0%)]\tLoss: 0.177654\n",
      "Accuracy is 97.26379870129868 on train_dataset \n",
      "\n",
      "Train Epoch: 122 [0/1375 (0%)]\tLoss: 0.179404\n",
      "Accuracy is 97.51252319109463 on train_dataset \n",
      "\n",
      "Train Epoch: 123 [0/1375 (0%)]\tLoss: 0.183076\n",
      "Accuracy is 97.26762523191096 on train_dataset \n",
      "\n",
      "Train Epoch: 124 [0/1375 (0%)]\tLoss: 0.176471\n",
      "Accuracy is 97.3334879406308 on train_dataset \n",
      "\n",
      "Train Epoch: 125 [0/1375 (0%)]\tLoss: 0.182803\n",
      "Accuracy is 97.33592300556585 on train_dataset \n",
      "\n",
      "Train Epoch: 126 [0/1375 (0%)]\tLoss: 0.172795\n",
      "Accuracy is 97.33545918367348 on train_dataset \n",
      "\n",
      "Train Epoch: 127 [0/1375 (0%)]\tLoss: 0.161022\n",
      "Accuracy is 97.26832096474955 on train_dataset \n",
      "\n",
      "Train Epoch: 128 [0/1375 (0%)]\tLoss: 0.170616\n",
      "Accuracy is 97.53420686456401 on train_dataset \n",
      "\n",
      "Train Epoch: 129 [0/1375 (0%)]\tLoss: 0.174520\n",
      "Accuracy is 97.4448051948052 on train_dataset \n",
      "\n",
      "Train Epoch: 130 [0/1375 (0%)]\tLoss: 0.182166\n",
      "Accuracy is 97.40897495361781 on train_dataset \n",
      "\n",
      "Train Epoch: 131 [0/1375 (0%)]\tLoss: 0.165098\n",
      "Accuracy is 97.37731910946195 on train_dataset \n",
      "\n",
      "Train Epoch: 132 [0/1375 (0%)]\tLoss: 0.152890\n",
      "Accuracy is 97.33000927643783 on train_dataset \n",
      "\n",
      "Train Epoch: 133 [0/1375 (0%)]\tLoss: 0.195680\n",
      "Accuracy is 97.19132653061226 on train_dataset \n",
      "\n",
      "Train Epoch: 134 [0/1375 (0%)]\tLoss: 0.167398\n",
      "Accuracy is 97.14471243042672 on train_dataset \n",
      "\n",
      "Train Epoch: 135 [0/1375 (0%)]\tLoss: 0.168241\n",
      "Accuracy is 97.11328849721707 on train_dataset \n",
      "\n",
      "Train Epoch: 136 [0/1375 (0%)]\tLoss: 0.185911\n",
      "Accuracy is 96.9921150278293 on train_dataset \n",
      "\n",
      "Train Epoch: 137 [0/1375 (0%)]\tLoss: 0.171588\n",
      "Accuracy is 97.32108070500925 on train_dataset \n",
      "\n",
      "Train Epoch: 138 [0/1375 (0%)]\tLoss: 0.174492\n",
      "Accuracy is 97.14192949907236 on train_dataset \n",
      "\n",
      "Train Epoch: 139 [0/1375 (0%)]\tLoss: 0.177177\n",
      "Accuracy is 96.96347402597402 on train_dataset \n",
      "\n",
      "Train Epoch: 140 [0/1375 (0%)]\tLoss: 0.169986\n",
      "Accuracy is 97.07513914656772 on train_dataset \n",
      "\n",
      "Train Epoch: 141 [0/1375 (0%)]\tLoss: 0.161653\n",
      "Accuracy is 97.1876159554731 on train_dataset \n",
      "\n",
      "Train Epoch: 142 [0/1375 (0%)]\tLoss: 0.172148\n",
      "Accuracy is 97.46521335807049 on train_dataset \n",
      "\n",
      "Train Epoch: 143 [0/1375 (0%)]\tLoss: 0.169319\n",
      "Accuracy is 97.39390074211502 on train_dataset \n",
      "\n",
      "Train Epoch: 144 [0/1375 (0%)]\tLoss: 0.147005\n",
      "Accuracy is 97.48805658627087 on train_dataset \n",
      "\n",
      "Train Epoch: 145 [0/1375 (0%)]\tLoss: 0.155741\n",
      "Accuracy is 97.63300092764379 on train_dataset \n",
      "\n",
      "Train Epoch: 146 [0/1375 (0%)]\tLoss: 0.158437\n",
      "Accuracy is 97.4922309833024 on train_dataset \n",
      "\n",
      "Train Epoch: 147 [0/1375 (0%)]\tLoss: 0.150736\n",
      "Accuracy is 97.38601576994435 on train_dataset \n",
      "\n",
      "Train Epoch: 148 [0/1375 (0%)]\tLoss: 0.173042\n",
      "Accuracy is 97.51901669758813 on train_dataset \n",
      "\n",
      "Train Epoch: 149 [0/1375 (0%)]\tLoss: 0.151854\n",
      "Accuracy is 97.62813079777366 on train_dataset \n",
      "\n",
      "Train Epoch: 150 [0/1375 (0%)]\tLoss: 0.153679\n",
      "Accuracy is 97.56922541743971 on train_dataset \n",
      "\n",
      "Train Epoch: 151 [0/1375 (0%)]\tLoss: 0.146116\n",
      "Accuracy is 97.66187384044528 on train_dataset \n",
      "\n",
      "Train Epoch: 152 [0/1375 (0%)]\tLoss: 0.147587\n",
      "Accuracy is 97.62070964749536 on train_dataset \n",
      "\n",
      "Train Epoch: 153 [0/1375 (0%)]\tLoss: 0.152909\n",
      "Accuracy is 97.52887291280149 on train_dataset \n",
      "\n",
      "Train Epoch: 154 [0/1375 (0%)]\tLoss: 0.145680\n",
      "Accuracy is 97.68332560296845 on train_dataset \n",
      "\n",
      "Train Epoch: 155 [0/1375 (0%)]\tLoss: 0.152611\n",
      "Accuracy is 97.79649814471244 on train_dataset \n",
      "\n",
      "Train Epoch: 156 [0/1375 (0%)]\tLoss: 0.142204\n",
      "Accuracy is 97.67138218923932 on train_dataset \n",
      "\n",
      "Train Epoch: 157 [0/1375 (0%)]\tLoss: 0.156731\n",
      "Accuracy is 97.70361781076066 on train_dataset \n",
      "\n",
      "Train Epoch: 158 [0/1375 (0%)]\tLoss: 0.151840\n",
      "Accuracy is 97.81493506493507 on train_dataset \n",
      "\n",
      "Train Epoch: 159 [0/1375 (0%)]\tLoss: 0.147104\n",
      "Accuracy is 97.59925788497218 on train_dataset \n",
      "\n",
      "Train Epoch: 160 [0/1375 (0%)]\tLoss: 0.145756\n",
      "Accuracy is 97.7496521335807 on train_dataset \n",
      "\n",
      "Train Epoch: 161 [0/1375 (0%)]\tLoss: 0.146591\n",
      "Accuracy is 97.8753478664193 on train_dataset \n",
      "\n",
      "Train Epoch: 162 [0/1375 (0%)]\tLoss: 0.143394\n",
      "Accuracy is 97.72924397031541 on train_dataset \n",
      "\n",
      "Train Epoch: 163 [0/1375 (0%)]\tLoss: 0.135006\n",
      "Accuracy is 97.70013914656771 on train_dataset \n",
      "\n",
      "Train Epoch: 164 [0/1375 (0%)]\tLoss: 0.139553\n",
      "Accuracy is 97.73875231910945 on train_dataset \n",
      "\n",
      "Train Epoch: 165 [0/1375 (0%)]\tLoss: 0.128852\n",
      "Accuracy is 97.78061224489795 on train_dataset \n",
      "\n",
      "Train Epoch: 166 [0/1375 (0%)]\tLoss: 0.129991\n",
      "Accuracy is 97.7495361781076 on train_dataset \n",
      "\n",
      "Train Epoch: 167 [0/1375 (0%)]\tLoss: 0.141984\n",
      "Accuracy is 97.75220315398887 on train_dataset \n",
      "\n",
      "Train Epoch: 168 [0/1375 (0%)]\tLoss: 0.137846\n",
      "Accuracy is 97.71811224489795 on train_dataset \n",
      "\n",
      "Train Epoch: 169 [0/1375 (0%)]\tLoss: 0.137066\n",
      "Accuracy is 97.90793135435992 on train_dataset \n",
      "\n",
      "Train Epoch: 170 [0/1375 (0%)]\tLoss: 0.128084\n",
      "Accuracy is 97.79359925788498 on train_dataset \n",
      "\n",
      "Train Epoch: 171 [0/1375 (0%)]\tLoss: 0.145449\n",
      "Accuracy is 97.95779220779221 on train_dataset \n",
      "\n",
      "Train Epoch: 172 [0/1375 (0%)]\tLoss: 0.132923\n",
      "Accuracy is 97.81505102040815 on train_dataset \n",
      "\n",
      "Train Epoch: 173 [0/1375 (0%)]\tLoss: 0.126348\n",
      "Accuracy is 97.78119202226345 on train_dataset \n",
      "\n",
      "Train Epoch: 174 [0/1375 (0%)]\tLoss: 0.121979\n",
      "Accuracy is 97.74315862708721 on train_dataset \n",
      "\n",
      "Train Epoch: 175 [0/1375 (0%)]\tLoss: 0.142049\n",
      "Accuracy is 97.94341372912801 on train_dataset \n",
      "\n",
      "Train Epoch: 176 [0/1375 (0%)]\tLoss: 0.135464\n",
      "Accuracy is 97.73631725417441 on train_dataset \n",
      "\n",
      "Train Epoch: 177 [0/1375 (0%)]\tLoss: 0.137318\n",
      "Accuracy is 97.81145640074212 on train_dataset \n",
      "\n",
      "Train Epoch: 178 [0/1375 (0%)]\tLoss: 0.145634\n",
      "Accuracy is 97.90735157699444 on train_dataset \n",
      "\n",
      "Train Epoch: 179 [0/1375 (0%)]\tLoss: 0.138856\n",
      "Accuracy is 97.82815398886827 on train_dataset \n",
      "\n",
      "Train Epoch: 180 [0/1375 (0%)]\tLoss: 0.134953\n",
      "Accuracy is 97.76136363636364 on train_dataset \n",
      "\n",
      "Train Epoch: 181 [0/1375 (0%)]\tLoss: 0.130970\n",
      "Accuracy is 97.90259740259741 on train_dataset \n",
      "\n",
      "Train Epoch: 182 [0/1375 (0%)]\tLoss: 0.141101\n",
      "Accuracy is 97.77539424860854 on train_dataset \n",
      "\n",
      "Train Epoch: 183 [0/1375 (0%)]\tLoss: 0.115147\n",
      "Accuracy is 97.84334415584415 on train_dataset \n",
      "\n",
      "Train Epoch: 184 [0/1375 (0%)]\tLoss: 0.121027\n",
      "Accuracy is 97.98075139146569 on train_dataset \n",
      "\n",
      "Train Epoch: 185 [0/1375 (0%)]\tLoss: 0.114862\n",
      "Accuracy is 97.8331400742115 on train_dataset \n",
      "\n",
      "Train Epoch: 186 [0/1375 (0%)]\tLoss: 0.140276\n",
      "Accuracy is 97.99628942486085 on train_dataset \n",
      "\n",
      "Train Epoch: 187 [0/1375 (0%)]\tLoss: 0.136583\n",
      "Accuracy is 97.98341836734693 on train_dataset \n",
      "\n",
      "Train Epoch: 188 [0/1375 (0%)]\tLoss: 0.124042\n",
      "Accuracy is 97.88230519480521 on train_dataset \n",
      "\n",
      "Train Epoch: 189 [0/1375 (0%)]\tLoss: 0.117207\n",
      "Accuracy is 97.87847866419295 on train_dataset \n",
      "\n",
      "Train Epoch: 190 [0/1375 (0%)]\tLoss: 0.120872\n",
      "Accuracy is 98.10099721706865 on train_dataset \n",
      "\n",
      "Train Epoch: 191 [0/1375 (0%)]\tLoss: 0.131408\n",
      "Accuracy is 97.96532931354359 on train_dataset \n",
      "\n",
      "Train Epoch: 192 [0/1375 (0%)]\tLoss: 0.119341\n",
      "Accuracy is 98.01055194805194 on train_dataset \n",
      "\n",
      "Train Epoch: 193 [0/1375 (0%)]\tLoss: 0.119604\n",
      "Accuracy is 98.12233302411873 on train_dataset \n",
      "\n",
      "Train Epoch: 194 [0/1375 (0%)]\tLoss: 0.117976\n",
      "Accuracy is 98.00718923933208 on train_dataset \n",
      "\n",
      "Train Epoch: 195 [0/1375 (0%)]\tLoss: 0.112114\n",
      "Accuracy is 97.9442254174397 on train_dataset \n",
      "\n",
      "Train Epoch: 196 [0/1375 (0%)]\tLoss: 0.133305\n",
      "Accuracy is 97.99350649350647 on train_dataset \n",
      "\n",
      "Train Epoch: 197 [0/1375 (0%)]\tLoss: 0.133958\n",
      "Accuracy is 97.97472170686457 on train_dataset \n",
      "\n",
      "Train Epoch: 198 [0/1375 (0%)]\tLoss: 0.115533\n",
      "Accuracy is 97.96776437847868 on train_dataset \n",
      "\n",
      "Train Epoch: 199 [0/1375 (0%)]\tLoss: 0.105677\n",
      "Accuracy is 98.01913265306122 on train_dataset \n",
      "\n"
     ]
    }
   ],
   "source": [
    "wandb.init(project=\"amt\")\n",
    "cnn_model = CNN().to(device)#ANN(257,nn.SELU(),107).to(device)\n",
    "cnn_model.conv1.apply(init_weights)\n",
    "cnn_model.fc1.apply(init_weights)\n",
    "wandb.watch(cnn_model)\n",
    "new_optimizer = optim.Adam(cnn_model.parameters(),lr=0.001)\n",
    "epoch_num = 200\n",
    "log_interval = 200\n",
    "losses = []\n",
    "pos_weight = torch.Tensor([20]*88).to(device)\n",
    "loss_function = nn.BCEWithLogitsLoss(pos_weight=pos_weight)\n",
    "for epoch in range(epoch_num):\n",
    "    avg_epoch_loss = 0\n",
    "    cnn_model.train()\n",
    "    accuracy = 0\n",
    "    correct = np.zeros(88)\n",
    "    for batch_idx, (data, target) in enumerate(train_loader):\n",
    "        data = data.to(device)\n",
    "        labels = target\n",
    "        target =  labels.clone().detach().squeeze().to(device)\n",
    "        new_optimizer.zero_grad()\n",
    "        output = cnn_model(data.float())\n",
    "        \n",
    "        loss = loss_function(output.float(), target.float())\n",
    "        avg_epoch_loss += loss.item()\n",
    "        loss.backward()\n",
    "        new_optimizer.step()\n",
    "\n",
    "        cur_accuracy = calculate_avg_accuracy(torch.round(torch.sigmoid(output)), target)\n",
    "        correct = np.add(correct,cur_accuracy)\n",
    "        if batch_idx % log_interval == 0:\n",
    "            print('Train Epoch: {} [{}/{} ({:.0f}%)]\\tLoss: {:.6f}'.format(\n",
    "                epoch, batch_idx * len(data), len(train_loader.dataset),\n",
    "                       100. * batch_idx / len(train_loader), loss.item()))\n",
    "            losses.append(loss.item())\n",
    "    \n",
    "    avg_epoch_loss /= len(train_loader)\n",
    "    f1_train_micro,sklearn_train_acc, train_prec, train_rec = calc_f_score(cnn_model,device,train_loader,y_train,0.5)\n",
    "    f1_test_micro,_, _,_ = calc_f_score(cnn_model,device,test_loader,y_test,0.5)\n",
    "    f1_test_macro, sklearn_acc, test_prec,test_rec = calc_f_score(cnn_model,device,test_loader,y_test,0.5,'macro')\n",
    "    f1_test_samples, _, _,_ = calc_f_score(cnn_model,device,test_loader,y_test,0.5,'samples')\n",
    "    wandb.log({\"Average batch loss\": avg_epoch_loss, \"Test F1 Micro Score\": f1_test_micro, \n",
    "               \"Test F1 Macro Score\": f1_test_macro, \"Test F1 Samples Score\": f1_test_samples, 'Train F1 Micro Score' : f1_train_micro,\n",
    "               \"Sklearn_test_accuracy\" : sklearn_acc,\"Sklearn_train_accuracy\" : sklearn_train_acc, 'Train Precsion': train_prec,\n",
    "               \"Train Recall\": train_rec, \"Test Precision\": test_prec, \"Test Recall\": test_rec})\n",
    "    correct /= len(train_loader)\n",
    "    accuracy = np.mean(correct)\n",
    "    train_accuracy = 100. * accuracy\n",
    "   \n",
    "    #test_accuracy = test(model,device,test_loader)\n",
    "    print('Accuracy is {} on train_dataset'.format(train_accuracy), \"\\n\")"
   ]
  },
  {
   "cell_type": "code",
   "execution_count": 28,
   "metadata": {
    "scrolled": true
   },
   "outputs": [
    {
     "data": {
      "text/plain": [
       "7"
      ]
     },
     "execution_count": 28,
     "metadata": {},
     "output_type": "execute_result"
    }
   ],
   "source": [
    "len(train_loader)"
   ]
  },
  {
   "cell_type": "code",
   "execution_count": 30,
   "metadata": {},
   "outputs": [],
   "source": [
    "import matplotlib.pyplot as plt"
   ]
  },
  {
   "cell_type": "code",
   "execution_count": 31,
   "metadata": {},
   "outputs": [],
   "source": [
    "predictions,probs = eval(model,device,test_loader,0.01)"
   ]
  },
  {
   "cell_type": "code",
   "execution_count": 32,
   "metadata": {},
   "outputs": [],
   "source": [
    "np_prediction = np.array(predictions)"
   ]
  },
  {
   "cell_type": "code",
   "execution_count": 33,
   "metadata": {},
   "outputs": [],
   "source": [
    "probs_class = [x[0] for x in probs]"
   ]
  },
  {
   "cell_type": "code",
   "execution_count": 34,
   "metadata": {},
   "outputs": [],
   "source": [
    "true_class = [x[0].numpy() for x in y_test]"
   ]
  },
  {
   "cell_type": "code",
   "execution_count": 35,
   "metadata": {},
   "outputs": [],
   "source": [
    "fpr, tpr, thresholds = roc_curve(true_class, probs_class,)"
   ]
  },
  {
   "cell_type": "code",
   "execution_count": 36,
   "metadata": {},
   "outputs": [
    {
     "data": {
      "text/plain": [
       "[<matplotlib.lines.Line2D at 0x2a434a35ba8>]"
      ]
     },
     "execution_count": 36,
     "metadata": {},
     "output_type": "execute_result"
    },
    {
     "data": {
      "image/png": "[encoded data removed]",
      "text/plain": [
       "<Figure size 432x288 with 1 Axes>"
      ]
     },
     "metadata": {
      "needs_background": "light"
     },
     "output_type": "display_data"
    }
   ],
   "source": [
    "plt.plot(thresholds, tpr)"
   ]
  },
  {
   "cell_type": "code",
   "execution_count": 37,
   "metadata": {},
   "outputs": [
    {
     "data": {
      "text/plain": [
       "[<matplotlib.lines.Line2D at 0x2a43480a1d0>]"
      ]
     },
     "execution_count": 37,
     "metadata": {},
     "output_type": "execute_result"
    },
    {
     "data": {
      "image/png": "[encoded data removed]",
      "text/plain": [
       "<Figure size 432x288 with 1 Axes>"
      ]
     },
     "metadata": {
      "needs_background": "light"
     },
     "output_type": "display_data"
    }
   ],
   "source": [
    "plt.plot(thresholds, fpr)"
   ]
  },
  {
   "cell_type": "code",
   "execution_count": 38,
   "metadata": {},
   "outputs": [
    {
     "data": {
      "text/plain": [
       "[<matplotlib.lines.Line2D at 0x2a443736208>]"
      ]
     },
     "execution_count": 38,
     "metadata": {},
     "output_type": "execute_result"
    },
    {
     "data": {
      "image/png": "[encoded data removed]",
      "text/plain": [
       "<Figure size 432x288 with 1 Axes>"
      ]
     },
     "metadata": {
      "needs_background": "light"
     },
     "output_type": "display_data"
    }
   ],
   "source": [
    "plt.plot(fpr,tpr)"
   ]
  },
  {
   "cell_type": "code",
   "execution_count": 40,
   "metadata": {},
   "outputs": [
    {
     "data": {
      "text/plain": [
       "0.8558823529411764"
      ]
     },
     "execution_count": 40,
     "metadata": {},
     "output_type": "execute_result"
    }
   ],
   "source": [
    "auc_score = auc(fpr,tpr)\n",
    "auc_score"
   ]
  },
  {
   "cell_type": "code",
   "execution_count": 41,
   "metadata": {},
   "outputs": [],
   "source": [
    "y_true = y_test.numpy()"
   ]
  },
  {
   "cell_type": "code",
   "execution_count": 42,
   "metadata": {},
   "outputs": [
    {
     "data": {
      "text/plain": [
       "array([[0., 0., 0., ..., 0., 0., 0.],\n",
       "       [0., 0., 0., ..., 0., 0., 0.],\n",
       "       [0., 0., 0., ..., 0., 0., 0.],\n",
       "       ...,\n",
       "       [0., 0., 0., ..., 0., 0., 0.],\n",
       "       [0., 0., 0., ..., 0., 0., 0.],\n",
       "       [0., 0., 0., ..., 0., 0., 0.]], dtype=float32)"
      ]
     },
     "execution_count": 42,
     "metadata": {},
     "output_type": "execute_result"
    }
   ],
   "source": [
    "y_true"
   ]
  },
  {
   "cell_type": "code",
   "execution_count": 44,
   "metadata": {},
   "outputs": [],
   "source": [
    "pred_class = [x[22] for x in predictions]\n",
    "true_class = [x[22] for x in y_test]"
   ]
  },
  {
   "cell_type": "code",
   "execution_count": 45,
   "metadata": {},
   "outputs": [],
   "source": [
    "true_positive,false_positive,false_negative, true_negative = [0]*len(predictions[0]),[0]*len(predictions[0]),[0]*len(predictions[0]),[0]*len(predictions[0])"
   ]
  }
 ],
 "metadata": {
  "kernelspec": {
   "display_name": "Python 3",
   "language": "python",
   "name": "python3"
  },
  "language_info": {
   "codemirror_mode": {
    "name": "ipython",
    "version": 3
   },
   "file_extension": ".py",
   "mimetype": "text/x-python",
   "name": "python",
   "nbconvert_exporter": "python",
   "pygments_lexer": "ipython3",
   "version": "3.7.3"
  }
 },
 "nbformat": 4,
 "nbformat_minor": 4
}
