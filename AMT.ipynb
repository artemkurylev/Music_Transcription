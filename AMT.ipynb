{
  "nbformat": 4,
  "nbformat_minor": 0,
  "metadata": {
    "colab": {
      "name": "AMT.ipynb",
      "provenance": [],
      "machine_shape": "hm",
      "authorship_tag": "ABX9TyNSLN2VzU6TEezRKMjMPyBx",
      "include_colab_link": true
    },
    "kernelspec": {
      "name": "python3",
      "display_name": "Python 3"
    },
    "accelerator": "GPU"
  },
  "cells": [
    {
      "cell_type": "markdown",
      "metadata": {
        "id": "view-in-github",
        "colab_type": "text"
      },
      "source": [
        "<a href=\"https://colab.research.google.com/github/artemkurylev/Music_Transcription/blob/master/AMT.ipynb\" target=\"_parent\"><img src=\"https://colab.research.google.com/assets/colab-badge.svg\" alt=\"Open In Colab\"/></a>"
      ]
    },
    {
      "cell_type": "code",
      "metadata": {
        "id": "8DX2C90rIJAv",
        "colab_type": "code",
        "colab": {
          "base_uri": "https://localhost:8080/",
          "height": 306
        },
        "outputId": "ca24a11f-f74d-4fc2-dd04-e51747981fef"
      },
      "source": [
        "!pip install comet_ml"
      ],
      "execution_count": 3,
      "outputs": [
        {
          "output_type": "stream",
          "text": [
            "Requirement already satisfied: comet_ml in /usr/local/lib/python3.6/dist-packages (3.1.5)\n",
            "Requirement already satisfied: typing-extensions>=3.7.4 in /usr/local/lib/python3.6/dist-packages (from comet_ml) (3.7.4.2)\n",
            "Requirement already satisfied: requests>=2.18.4 in /usr/local/lib/python3.6/dist-packages (from comet_ml) (2.21.0)\n",
            "Requirement already satisfied: netifaces>=0.10.7 in /usr/local/lib/python3.6/dist-packages (from comet_ml) (0.10.9)\n",
            "Requirement already satisfied: everett[ini]>=1.0.1; python_version >= \"3.0\" in /usr/local/lib/python3.6/dist-packages (from comet_ml) (1.0.2)\n",
            "Requirement already satisfied: nvidia-ml-py3>=7.352.0 in /usr/local/lib/python3.6/dist-packages (from comet_ml) (7.352.0)\n",
            "Requirement already satisfied: websocket-client>=0.55.0 in /usr/local/lib/python3.6/dist-packages (from comet_ml) (0.57.0)\n",
            "Requirement already satisfied: jsonschema<3.1.0,>=2.6.0 in /usr/local/lib/python3.6/dist-packages (from comet_ml) (2.6.0)\n",
            "Requirement already satisfied: six in /usr/local/lib/python3.6/dist-packages (from comet_ml) (1.12.0)\n",
            "Requirement already satisfied: wurlitzer>=1.0.2 in /usr/local/lib/python3.6/dist-packages (from comet_ml) (2.0.0)\n",
            "Requirement already satisfied: comet-git-pure>=0.19.11 in /usr/local/lib/python3.6/dist-packages (from comet_ml) (0.19.15)\n",
            "Requirement already satisfied: idna<2.9,>=2.5 in /usr/local/lib/python3.6/dist-packages (from requests>=2.18.4->comet_ml) (2.8)\n",
            "Requirement already satisfied: chardet<3.1.0,>=3.0.2 in /usr/local/lib/python3.6/dist-packages (from requests>=2.18.4->comet_ml) (3.0.4)\n",
            "Requirement already satisfied: urllib3<1.25,>=1.21.1 in /usr/local/lib/python3.6/dist-packages (from requests>=2.18.4->comet_ml) (1.24.3)\n",
            "Requirement already satisfied: certifi>=2017.4.17 in /usr/local/lib/python3.6/dist-packages (from requests>=2.18.4->comet_ml) (2020.4.5.1)\n",
            "Requirement already satisfied: configobj; extra == \"ini\" in /usr/local/lib/python3.6/dist-packages (from everett[ini]>=1.0.1; python_version >= \"3.0\"->comet_ml) (5.0.6)\n"
          ],
          "name": "stdout"
        }
      ]
    },
    {
      "cell_type": "code",
      "metadata": {
        "id": "FLKMgYGpHnM-",
        "colab_type": "code",
        "colab": {}
      },
      "source": [
        "import numpy as np\n",
        "import argparse\n",
        "import matplotlib.pyplot as plt\n",
        "import librosa\n",
        "import csv\n",
        "import time\n",
        "import h5py\n",
        "import pickle\n",
        "import os\n",
        "from sklearn import preprocessing\n",
        "from scipy.io import wavfile\n",
        "import pandas as pd\n",
        "from sklearn import metrics\n",
        "from joblib import Parallel, delayed\n",
        "from librosa import display\n",
        "from librosa.display import specshow"
      ],
      "execution_count": 0,
      "outputs": []
    },
    {
      "cell_type": "code",
      "metadata": {
        "id": "BmZAM3IgSTVQ",
        "colab_type": "code",
        "colab": {}
      },
      "source": [
        "import torch\n",
        "import torch.nn as nn\n",
        "import torch.nn.functional as F\n",
        "import torch.optim as optim\n",
        "from torch. utils.data import DataLoader\n",
        "from sklearn.metrics import classification_report, roc_curve, auc\n",
        "from sklearn.model_selection import train_test_split\n",
        "import matplotlib.pyplot as plt"
      ],
      "execution_count": 0,
      "outputs": []
    },
    {
      "cell_type": "code",
      "metadata": {
        "id": "bAKAw_oOIEsj",
        "colab_type": "code",
        "colab": {}
      },
      "source": [
        "class DataProcessor:\n",
        "\n",
        "    class DataReader:\n",
        "\n",
        "        def __init__(self):\n",
        "            self.audios = []\n",
        "            self.annotations = []\n",
        "\n",
        "        def read_audios(self, audio_file_paths):\n",
        "            results = Parallel(n_jobs=-1, verbose=5, backend=\"threading\")(\n",
        "                map(delayed(self.read_audio), audio_file_paths))\n",
        "            return results\n",
        "\n",
        "        def read_audio(self, path):\n",
        "            audio = librosa.load(path, sr=16000)\n",
        "            if audio:\n",
        "                self.audios.append(audio)\n",
        "\n",
        "    def __init__(self, path):\n",
        "        self.path = path\n",
        "        self.chroma_cqts = []\n",
        "        self.cqts = []\n",
        "        self.annotations = None\n",
        "        self.audios = None\n",
        "        self.files = recursive_file_search(self.path)\n",
        "        try:\n",
        "            self.txt_files = [file for file in self.files if file.endswith('.txt')]\n",
        "            self.audio_files = [file for file in self.files if file.endswith('.wav')]\n",
        "\n",
        "        except FileNotFoundError:\n",
        "            print('Please enter correct Path - some of your files not found')\n",
        "            return\n",
        "\n",
        "    def load_annotations(self):\n",
        "        self.annotations = [pd.read_csv(filename, sep='\\t') for filename in self.txt_files]\n",
        "        for i in range(len(self.annotations)):\n",
        "            min_onset = self.annotations[i]['OnsetTime'].min()\n",
        "            padding_row = pd.DataFrame({\"OnsetTime\": [0.0],\"OffsetTime\":[min_onset],\"MidiPitch\":[0]})\n",
        "            self.annotations[i] = pd.concat([self.annotations[i],padding_row],ignore_index=True)\n",
        "            self.annotations[i] = self.annotations[i].sort_values(by='OnsetTime',)\n",
        "\n",
        "    def load_audios(self, sr=None):\n",
        "        if sr is not None:\n",
        "            dr = DataProcessor.DataReader()\n",
        "            dr.read_audios(self.audio_files)\n",
        "            self.audios = dr.audios\n",
        "        else:\n",
        "            self.audios = [librosa.load(filename) for filename in self.audio_files]\n",
        "\n",
        "    def generate_chroma_cqt_images(self, output_path):\n",
        "        for i in range(len(self.audios)):\n",
        "            chroma_cqt = librosa.feature.chroma_cqt(self.audios[i][0], self.audios[i][1])\n",
        "            self.chroma_cqts.append(chroma_cqt)\n",
        "            plt.figure(figsize=(15, 20))\n",
        "            plt.subplot(2, 1, 2)\n",
        "            display.specshow(chroma_cqt, y_axis='chroma', x_axis='time')\n",
        "            plt.title('chroma_cqt')\n",
        "            plt.colorbar()\n",
        "            plt.savefig(os.path.join(output_path, self.txt_files[i][:3] + 'png'), bbox_inches='tight')\n",
        "\n",
        "    def generate_cqts(self, hop_length=512, fmin=None, n_bins=84, bins_per_octave=12,\n",
        "                      tuning=0.0, filter_scale=1, norm=1, sparsity=0.01, window='hann', scale=True, pad_mode='reflect'):\n",
        "        self.cqts = []\n",
        "        for i in range(len(self.audios)):\n",
        "            chroma_cqt = np.abs(librosa.cqt(self.audios[i][0], self.audios[i][1],  hop_length, fmin, n_bins,\n",
        "                                bins_per_octave, tuning, filter_scale, norm, sparsity, window, scale, pad_mode))\n",
        "            self.cqts.append(chroma_cqt)\n",
        "    \n",
        "    #def generate_cqt()\n",
        "\n",
        "    @staticmethod\n",
        "    def one_hot(series):\n",
        "        res = np.zeros(107)\n",
        "        list_values = series.values.tolist()\n",
        "        for val in list_values:\n",
        "            if type(val) == int:\n",
        "                try:\n",
        "                    res[val-21] = 1\n",
        "                except Exception:\n",
        "                    print('-0000-0-0-0-')\n",
        "                    print(val)\n",
        "                    print(list_values)\n",
        "        return res.tolist()\n",
        "\n",
        "    @staticmethod\n",
        "    def simple_one_hot(series):\n",
        "        list_values = np.array(series.values.tolist())\n",
        "        return list_values.argmax()\n",
        "\n",
        "    def get_cqt_data(self, freq):\n",
        "        X = []\n",
        "        y = []\n",
        "        shapes = []\n",
        "        for chroma in self.cqts:\n",
        "            shapes.append(chroma.shape[1])\n",
        "            X.extend(chroma.reshape(chroma.shape[1], chroma.shape[0]))\n",
        "\n",
        "        for i in range(len(shapes)):\n",
        "            new_freq = shapes[i]\n",
        "            try:\n",
        "                self.annotations[i]['frame'] = pd.cut(self.annotations[i].OnsetTime, new_freq)\n",
        "            except IndexError:\n",
        "                print('Index out of range: ', i, ' > ', len(self.annotations))\n",
        "            grouped_annotation = self.annotations[i][['MidiPitch', 'frame']].groupby(by='frame', as_index=False)\\\n",
        "                .agg(DataProcessor.one_hot)\n",
        "            \n",
        "            grouped_annotation['FixedMidiPitch'] = grouped_annotation['MidiPitch'].fillna(method='pad')\n",
        "            \n",
        "            y.extend(grouped_annotation['FixedMidiPitch'])\n",
        "        Xy = pd.DataFrame(X)\n",
        "        y = pd.Series(y,name='FixedMidiPitch')\n",
        "        Xy= pd.concat((Xy,y),axis=1)\n",
        "        Xy = Xy\n",
        "        \n",
        "        return Xy.loc[:, Xy.columns != 'FixedMidiPitch'].values.tolist(), Xy['FixedMidiPitch']"
      ],
      "execution_count": 0,
      "outputs": []
    },
    {
      "cell_type": "code",
      "metadata": {
        "id": "UbpZCXr9IorD",
        "colab_type": "code",
        "colab": {}
      },
      "source": [
        "def recursive_file_search(folder):\n",
        "    files = [os.path.join(folder, file) for file in os.listdir(folder) if os.path.isfile(os.path.join(folder, file))]\n",
        "    folders = [os.path.join(folder, file) for file in os.listdir(folder) if os.path.isdir(os.path.join(folder, file))]\n",
        "    if folders:\n",
        "        for next_folder in folders:\n",
        "            files.extend(recursive_file_search(next_folder))\n",
        "\n",
        "    return files"
      ],
      "execution_count": 0,
      "outputs": []
    },
    {
      "cell_type": "code",
      "metadata": {
        "id": "vZhTnhaSIqUw",
        "colab_type": "code",
        "colab": {
          "base_uri": "https://localhost:8080/",
          "height": 618
        },
        "outputId": "5ddfea82-82ef-4dc0-edec-6980d955359f"
      },
      "source": [
        "!wget https://amubox.univ-amu.fr/s/iNG0xc5Td1Nv4rR/download\n",
        "!unzip download\n",
        "!rm download\n",
        "\n",
        "!unzip 'MAPS/AkPnBcht.zip' \n",
        "!rm 'MAPS/AkPnBcht.zip'\n",
        "!unzip 'MAPS/AkPnBsdf.zip'\n",
        "!rm 'MAPS/AkPnBsdf.zip'\n",
        "!unzip 'MAPS/AkPnCGdD.zip'\n",
        "!rm 'MAPS/AkPnCGdD.zip'\n",
        "!unzip 'MAPS/AkPnStgb.zip'\n",
        "!rm 'MAPS/AkPnStgb.zip'\n",
        "!unzip 'MAPS/ENSTDkAm1.zip'\n",
        "!rm 'MAPS/ENSTDkAm1.zip'\n",
        "!unzip 'MAPS/ENSTDkAm2.zip'\n",
        "!rm 'MAPS/ENSTDkAm2.zip'\n",
        "!unzip 'MAPS/ENSTDkCl.zip'\n",
        "!rm 'MAPS/ENSTDkCl.zip'\n",
        "!unzip 'MAPS/SptkBGAm.zip'\n",
        "!rm 'MAPS/SptkBGAm.zip'\n",
        "!unzip 'MAPS/SptkBGCl.zip'\n",
        "!rm 'MAPS/SptkBGCl.zip'\n",
        "!unzip 'MAPS/StbgTGd2.zip'\n",
        "!rm 'MAPS/StbgTGd2.zip'"
      ],
      "execution_count": 3,
      "outputs": [
        {
          "output_type": "stream",
          "text": [
            "--2020-04-16 09:18:40--  https://amubox.univ-amu.fr/s/iNG0xc5Td1Nv4rR/download\n",
            "Resolving amubox.univ-amu.fr (amubox.univ-amu.fr)... 139.124.245.127\n",
            "Connecting to amubox.univ-amu.fr (amubox.univ-amu.fr)|139.124.245.127|:443... connected.\n",
            "HTTP request sent, awaiting response... 200 OK\n",
            "Length: unspecified [application/zip]\n",
            "Saving to: ‘download’\n",
            "\n",
            "download                [<=>                 ]       0  --.-KB/s               ^C\n",
            "Archive:  download\n",
            "  End-of-central-directory signature not found.  Either this file is not\n",
            "  a zipfile, or it constitutes one disk of a multi-part archive.  In the\n",
            "  latter case the central directory and zipfile comment will be found on\n",
            "  the last disk(s) of this archive.\n",
            "unzip:  cannot find zipfile directory in one of download or\n",
            "        download.zip, and cannot find download.ZIP, period.\n"
          ],
          "name": "stdout"
        },
        {
          "output_type": "error",
          "ename": "KeyboardInterrupt",
          "evalue": "ignored",
          "traceback": [
            "\u001b[0;31m---------------------------------------------------------------------------\u001b[0m",
            "\u001b[0;31mKeyboardInterrupt\u001b[0m                         Traceback (most recent call last)",
            "\u001b[0;32m<ipython-input-3-91b88db45a62>\u001b[0m in \u001b[0;36m<module>\u001b[0;34m()\u001b[0m\n\u001b[1;32m      1\u001b[0m \u001b[0mget_ipython\u001b[0m\u001b[0;34m(\u001b[0m\u001b[0;34m)\u001b[0m\u001b[0;34m.\u001b[0m\u001b[0msystem\u001b[0m\u001b[0;34m(\u001b[0m\u001b[0;34m'wget https://amubox.univ-amu.fr/s/iNG0xc5Td1Nv4rR/download'\u001b[0m\u001b[0;34m)\u001b[0m\u001b[0;34m\u001b[0m\u001b[0;34m\u001b[0m\u001b[0m\n\u001b[1;32m      2\u001b[0m \u001b[0mget_ipython\u001b[0m\u001b[0;34m(\u001b[0m\u001b[0;34m)\u001b[0m\u001b[0;34m.\u001b[0m\u001b[0msystem\u001b[0m\u001b[0;34m(\u001b[0m\u001b[0;34m'unzip download'\u001b[0m\u001b[0;34m)\u001b[0m\u001b[0;34m\u001b[0m\u001b[0;34m\u001b[0m\u001b[0m\n\u001b[0;32m----> 3\u001b[0;31m \u001b[0mget_ipython\u001b[0m\u001b[0;34m(\u001b[0m\u001b[0;34m)\u001b[0m\u001b[0;34m.\u001b[0m\u001b[0msystem\u001b[0m\u001b[0;34m(\u001b[0m\u001b[0;34m'rm download'\u001b[0m\u001b[0;34m)\u001b[0m\u001b[0;34m\u001b[0m\u001b[0;34m\u001b[0m\u001b[0m\n\u001b[0m",
            "\u001b[0;32m/usr/local/lib/python3.6/dist-packages/google/colab/_shell.py\u001b[0m in \u001b[0;36msystem\u001b[0;34m(self, *args, **kwargs)\u001b[0m\n\u001b[1;32m     94\u001b[0m       \u001b[0mkwargs\u001b[0m\u001b[0;34m.\u001b[0m\u001b[0mupdate\u001b[0m\u001b[0;34m(\u001b[0m\u001b[0;34m{\u001b[0m\u001b[0;34m'also_return_output'\u001b[0m\u001b[0;34m:\u001b[0m \u001b[0;32mTrue\u001b[0m\u001b[0;34m}\u001b[0m\u001b[0;34m)\u001b[0m\u001b[0;34m\u001b[0m\u001b[0;34m\u001b[0m\u001b[0m\n\u001b[1;32m     95\u001b[0m \u001b[0;34m\u001b[0m\u001b[0m\n\u001b[0;32m---> 96\u001b[0;31m     \u001b[0moutput\u001b[0m \u001b[0;34m=\u001b[0m \u001b[0m_system_commands\u001b[0m\u001b[0;34m.\u001b[0m\u001b[0m_system_compat\u001b[0m\u001b[0;34m(\u001b[0m\u001b[0mself\u001b[0m\u001b[0;34m,\u001b[0m \u001b[0;34m*\u001b[0m\u001b[0margs\u001b[0m\u001b[0;34m,\u001b[0m \u001b[0;34m**\u001b[0m\u001b[0mkwargs\u001b[0m\u001b[0;34m)\u001b[0m  \u001b[0;31m# pylint:disable=protected-access\u001b[0m\u001b[0;34m\u001b[0m\u001b[0;34m\u001b[0m\u001b[0m\n\u001b[0m\u001b[1;32m     97\u001b[0m \u001b[0;34m\u001b[0m\u001b[0m\n\u001b[1;32m     98\u001b[0m     \u001b[0;32mif\u001b[0m \u001b[0mpip_warn\u001b[0m\u001b[0;34m:\u001b[0m\u001b[0;34m\u001b[0m\u001b[0;34m\u001b[0m\u001b[0m\n",
            "\u001b[0;32m/usr/local/lib/python3.6/dist-packages/google/colab/_system_commands.py\u001b[0m in \u001b[0;36m_system_compat\u001b[0;34m(shell, cmd, also_return_output)\u001b[0m\n\u001b[1;32m    436\u001b[0m   \u001b[0;31m# stack.\u001b[0m\u001b[0;34m\u001b[0m\u001b[0;34m\u001b[0m\u001b[0;34m\u001b[0m\u001b[0m\n\u001b[1;32m    437\u001b[0m   result = _run_command(\n\u001b[0;32m--> 438\u001b[0;31m       shell.var_expand(cmd, depth=2), clear_streamed_output=False)\n\u001b[0m\u001b[1;32m    439\u001b[0m   \u001b[0mshell\u001b[0m\u001b[0;34m.\u001b[0m\u001b[0muser_ns\u001b[0m\u001b[0;34m[\u001b[0m\u001b[0;34m'_exit_code'\u001b[0m\u001b[0;34m]\u001b[0m \u001b[0;34m=\u001b[0m \u001b[0mresult\u001b[0m\u001b[0;34m.\u001b[0m\u001b[0mreturncode\u001b[0m\u001b[0;34m\u001b[0m\u001b[0;34m\u001b[0m\u001b[0m\n\u001b[1;32m    440\u001b[0m   \u001b[0;32mif\u001b[0m \u001b[0;34m-\u001b[0m\u001b[0mresult\u001b[0m\u001b[0;34m.\u001b[0m\u001b[0mreturncode\u001b[0m \u001b[0;32min\u001b[0m \u001b[0m_INTERRUPTED_SIGNALS\u001b[0m\u001b[0;34m:\u001b[0m\u001b[0;34m\u001b[0m\u001b[0;34m\u001b[0m\u001b[0m\n",
            "\u001b[0;32m/usr/local/lib/python3.6/dist-packages/google/colab/_system_commands.py\u001b[0m in \u001b[0;36m_run_command\u001b[0;34m(cmd, clear_streamed_output)\u001b[0m\n\u001b[1;32m    179\u001b[0m \u001b[0;34m\u001b[0m\u001b[0m\n\u001b[1;32m    180\u001b[0m     with temporary_clearer(), _display_stdin_widget(\n\u001b[0;32m--> 181\u001b[0;31m         delay_millis=500) as update_stdin_widget:\n\u001b[0m\u001b[1;32m    182\u001b[0m       \u001b[0;31m# TODO(b/115531839): Ensure that subprocesses are terminated upon\u001b[0m\u001b[0;34m\u001b[0m\u001b[0;34m\u001b[0m\u001b[0;34m\u001b[0m\u001b[0m\n\u001b[1;32m    183\u001b[0m       \u001b[0;31m# interrupt.\u001b[0m\u001b[0;34m\u001b[0m\u001b[0;34m\u001b[0m\u001b[0;34m\u001b[0m\u001b[0m\n",
            "\u001b[0;32m/usr/lib/python3.6/contextlib.py\u001b[0m in \u001b[0;36m__enter__\u001b[0;34m(self)\u001b[0m\n\u001b[1;32m     79\u001b[0m     \u001b[0;32mdef\u001b[0m \u001b[0m__enter__\u001b[0m\u001b[0;34m(\u001b[0m\u001b[0mself\u001b[0m\u001b[0;34m)\u001b[0m\u001b[0;34m:\u001b[0m\u001b[0;34m\u001b[0m\u001b[0;34m\u001b[0m\u001b[0m\n\u001b[1;32m     80\u001b[0m         \u001b[0;32mtry\u001b[0m\u001b[0;34m:\u001b[0m\u001b[0;34m\u001b[0m\u001b[0;34m\u001b[0m\u001b[0m\n\u001b[0;32m---> 81\u001b[0;31m             \u001b[0;32mreturn\u001b[0m \u001b[0mnext\u001b[0m\u001b[0;34m(\u001b[0m\u001b[0mself\u001b[0m\u001b[0;34m.\u001b[0m\u001b[0mgen\u001b[0m\u001b[0;34m)\u001b[0m\u001b[0;34m\u001b[0m\u001b[0;34m\u001b[0m\u001b[0m\n\u001b[0m\u001b[1;32m     82\u001b[0m         \u001b[0;32mexcept\u001b[0m \u001b[0mStopIteration\u001b[0m\u001b[0;34m:\u001b[0m\u001b[0;34m\u001b[0m\u001b[0;34m\u001b[0m\u001b[0m\n\u001b[1;32m     83\u001b[0m             \u001b[0;32mraise\u001b[0m \u001b[0mRuntimeError\u001b[0m\u001b[0;34m(\u001b[0m\u001b[0;34m\"generator didn't yield\"\u001b[0m\u001b[0;34m)\u001b[0m \u001b[0;32mfrom\u001b[0m \u001b[0;32mNone\u001b[0m\u001b[0;34m\u001b[0m\u001b[0;34m\u001b[0m\u001b[0m\n",
            "\u001b[0;32m/usr/local/lib/python3.6/dist-packages/google/colab/_system_commands.py\u001b[0m in \u001b[0;36m_display_stdin_widget\u001b[0;34m(delay_millis)\u001b[0m\n\u001b[1;32m    339\u001b[0m   \u001b[0mshell\u001b[0m \u001b[0;34m=\u001b[0m \u001b[0m_ipython\u001b[0m\u001b[0;34m.\u001b[0m\u001b[0mget_ipython\u001b[0m\u001b[0;34m(\u001b[0m\u001b[0;34m)\u001b[0m\u001b[0;34m\u001b[0m\u001b[0;34m\u001b[0m\u001b[0m\n\u001b[1;32m    340\u001b[0m   \u001b[0mdisplay_args\u001b[0m \u001b[0;34m=\u001b[0m \u001b[0;34m[\u001b[0m\u001b[0;34m'cell_display_stdin'\u001b[0m\u001b[0;34m,\u001b[0m \u001b[0;34m{\u001b[0m\u001b[0;34m'delayMillis'\u001b[0m\u001b[0;34m:\u001b[0m \u001b[0mdelay_millis\u001b[0m\u001b[0;34m}\u001b[0m\u001b[0;34m]\u001b[0m\u001b[0;34m\u001b[0m\u001b[0;34m\u001b[0m\u001b[0m\n\u001b[0;32m--> 341\u001b[0;31m   \u001b[0m_message\u001b[0m\u001b[0;34m.\u001b[0m\u001b[0mblocking_request\u001b[0m\u001b[0;34m(\u001b[0m\u001b[0;34m*\u001b[0m\u001b[0mdisplay_args\u001b[0m\u001b[0;34m,\u001b[0m \u001b[0mparent\u001b[0m\u001b[0;34m=\u001b[0m\u001b[0mshell\u001b[0m\u001b[0;34m.\u001b[0m\u001b[0mparent_header\u001b[0m\u001b[0;34m)\u001b[0m\u001b[0;34m\u001b[0m\u001b[0;34m\u001b[0m\u001b[0m\n\u001b[0m\u001b[1;32m    342\u001b[0m \u001b[0;34m\u001b[0m\u001b[0m\n\u001b[1;32m    343\u001b[0m   \u001b[0;32mdef\u001b[0m \u001b[0mecho_updater\u001b[0m\u001b[0;34m(\u001b[0m\u001b[0mnew_echo_status\u001b[0m\u001b[0;34m)\u001b[0m\u001b[0;34m:\u001b[0m\u001b[0;34m\u001b[0m\u001b[0;34m\u001b[0m\u001b[0m\n",
            "\u001b[0;32m/usr/local/lib/python3.6/dist-packages/google/colab/_message.py\u001b[0m in \u001b[0;36mblocking_request\u001b[0;34m(request_type, request, timeout_sec, parent)\u001b[0m\n\u001b[1;32m    169\u001b[0m   \u001b[0;31m# unique.\u001b[0m\u001b[0;34m\u001b[0m\u001b[0;34m\u001b[0m\u001b[0;34m\u001b[0m\u001b[0m\n\u001b[1;32m    170\u001b[0m   \u001b[0mrequest_id\u001b[0m \u001b[0;34m=\u001b[0m \u001b[0msend_request\u001b[0m\u001b[0;34m(\u001b[0m\u001b[0mrequest_type\u001b[0m\u001b[0;34m,\u001b[0m \u001b[0mrequest\u001b[0m\u001b[0;34m,\u001b[0m \u001b[0mparent\u001b[0m\u001b[0;34m=\u001b[0m\u001b[0mparent\u001b[0m\u001b[0;34m)\u001b[0m\u001b[0;34m\u001b[0m\u001b[0;34m\u001b[0m\u001b[0m\n\u001b[0;32m--> 171\u001b[0;31m   \u001b[0;32mreturn\u001b[0m \u001b[0mread_reply_from_input\u001b[0m\u001b[0;34m(\u001b[0m\u001b[0mrequest_id\u001b[0m\u001b[0;34m,\u001b[0m \u001b[0mtimeout_sec\u001b[0m\u001b[0;34m)\u001b[0m\u001b[0;34m\u001b[0m\u001b[0;34m\u001b[0m\u001b[0m\n\u001b[0m",
            "\u001b[0;32m/usr/local/lib/python3.6/dist-packages/google/colab/_message.py\u001b[0m in \u001b[0;36mread_reply_from_input\u001b[0;34m(message_id, timeout_sec)\u001b[0m\n\u001b[1;32m     99\u001b[0m     \u001b[0mreply\u001b[0m \u001b[0;34m=\u001b[0m \u001b[0m_read_next_input_message\u001b[0m\u001b[0;34m(\u001b[0m\u001b[0;34m)\u001b[0m\u001b[0;34m\u001b[0m\u001b[0;34m\u001b[0m\u001b[0m\n\u001b[1;32m    100\u001b[0m     \u001b[0;32mif\u001b[0m \u001b[0mreply\u001b[0m \u001b[0;34m==\u001b[0m \u001b[0m_NOT_READY\u001b[0m \u001b[0;32mor\u001b[0m \u001b[0;32mnot\u001b[0m \u001b[0misinstance\u001b[0m\u001b[0;34m(\u001b[0m\u001b[0mreply\u001b[0m\u001b[0;34m,\u001b[0m \u001b[0mdict\u001b[0m\u001b[0;34m)\u001b[0m\u001b[0;34m:\u001b[0m\u001b[0;34m\u001b[0m\u001b[0;34m\u001b[0m\u001b[0m\n\u001b[0;32m--> 101\u001b[0;31m       \u001b[0mtime\u001b[0m\u001b[0;34m.\u001b[0m\u001b[0msleep\u001b[0m\u001b[0;34m(\u001b[0m\u001b[0;36m0.025\u001b[0m\u001b[0;34m)\u001b[0m\u001b[0;34m\u001b[0m\u001b[0;34m\u001b[0m\u001b[0m\n\u001b[0m\u001b[1;32m    102\u001b[0m       \u001b[0;32mcontinue\u001b[0m\u001b[0;34m\u001b[0m\u001b[0;34m\u001b[0m\u001b[0m\n\u001b[1;32m    103\u001b[0m     if (reply.get('type') == 'colab_reply' and\n",
            "\u001b[0;31mKeyboardInterrupt\u001b[0m: "
          ]
        }
      ]
    },
    {
      "cell_type": "code",
      "metadata": {
        "id": "d0Bg_sOfQJwd",
        "colab_type": "code",
        "colab": {
          "base_uri": "https://localhost:8080/",
          "height": 34
        },
        "outputId": "65ed30f7-74fc-4649-e6ad-e56c0a40d06f"
      },
      "source": [
        "!mv 'AkPnBcht/' 'MAPS/'\n",
        "!mv 'AkPnBsdf/' 'MAPS/'\n",
        "!mv 'AkPnCGdD/' 'MAPS/'\n",
        "!mv 'AkPnStgb/' 'MAPS/'\n",
        "!mv 'ENSTDkAm/' 'MAPS/'\n",
        "!mv 'ENSTDkCl/' 'MAPS/'\n",
        "!mv 'SptkBGAm/' 'MAPS/'\n",
        "!mv 'SptkBGCl/' 'MAPS/'\n",
        "!mv 'StbgTGd2//' 'MAPS/'"
      ],
      "execution_count": 2,
      "outputs": [
        {
          "output_type": "stream",
          "text": [
            "mv: cannot stat 'AkPnBcht/': No such file or directory\n"
          ],
          "name": "stdout"
        }
      ]
    },
    {
      "cell_type": "code",
      "metadata": {
        "id": "QyEeZszWI_wZ",
        "colab_type": "code",
        "colab": {}
      },
      "source": [
        "class ANN(nn.Module):\n",
        "    def __init__(self, input_size, activation, output_size, dropout=None, bn=None):\n",
        "        super(ANN, self).__init__()\n",
        "\n",
        "        def ann_block(in_neurons, out_neurons, activation, dropout=None, bn=None):\n",
        "            block = [nn.Linear(in_neurons, out_neurons), activation]\n",
        "            if dropout is not None:\n",
        "                block.append(dropout)\n",
        "            if bn is not None:\n",
        "                block.append(bn)\n",
        "            return block\n",
        "\n",
        "        self.model = nn.Sequential(\n",
        "            *ann_block(input_size, 512, dropout, bn),\n",
        "            *ann_block(512, 1024, activation, dropout),\n",
        "            *ann_block(1024, 2048, activation, dropout),\n",
        "            *ann_block(2048, 2048, activation, dropout),\n",
        "            *ann_block(2048, 1024, activation, dropout),\n",
        "            *ann_block(1024, 512, activation, dropout),\n",
        "            *ann_block(512, 256, activation, dropout),\n",
        "            *ann_block(256, output_size, activation, dropout)\n",
        "        )\n",
        "\n",
        "    def forward(self, x):\n",
        "        shape = x.shape[0]\n",
        "        return self.model(x.view(shape, -1))"
      ],
      "execution_count": 0,
      "outputs": []
    },
    {
      "cell_type": "markdown",
      "metadata": {
        "id": "lHzV4yVlLlCz",
        "colab_type": "text"
      },
      "source": [
        "##### Read and preprocess data"
      ]
    },
    {
      "cell_type": "code",
      "metadata": {
        "id": "FjvXmSXfLWFw",
        "colab_type": "code",
        "colab": {
          "base_uri": "https://localhost:8080/",
          "height": 286
        },
        "outputId": "3dbb3d59-95a7-4b58-d197-272c849ed476"
      },
      "source": [
        "path = 'MAPS/AkPnCGdD/'\n",
        "dp = DataProcessor(path)\n",
        "dp.load_audios(sr=16000)\n",
        "dp.load_annotations()\n",
        "dp.generate_cqts(bins_per_octave=36,hop_length=512,n_bins=252)\n",
        "X,y = dp.get_cqt_data(None)"
      ],
      "execution_count": 11,
      "outputs": [
        {
          "output_type": "stream",
          "text": [
            "[Parallel(n_jobs=-1)]: Using backend ThreadingBackend with 4 concurrent workers.\n",
            "[Parallel(n_jobs=-1)]: Done  10 tasks      | elapsed:    4.1s\n",
            "[Parallel(n_jobs=-1)]: Done  64 tasks      | elapsed:   11.0s\n",
            "[Parallel(n_jobs=-1)]: Done 154 tasks      | elapsed:   22.9s\n",
            "[Parallel(n_jobs=-1)]: Done 280 tasks      | elapsed:   39.7s\n",
            "[Parallel(n_jobs=-1)]: Done 442 tasks      | elapsed:  1.0min\n",
            "[Parallel(n_jobs=-1)]: Done 640 tasks      | elapsed:  1.5min\n",
            "[Parallel(n_jobs=-1)]: Done 874 tasks      | elapsed:  2.0min\n",
            "[Parallel(n_jobs=-1)]: Done 1144 tasks      | elapsed:  2.7min\n",
            "[Parallel(n_jobs=-1)]: Done 1450 tasks      | elapsed:  6.3min\n",
            "[Parallel(n_jobs=-1)]: Done 1792 tasks      | elapsed:  7.5min\n",
            "[Parallel(n_jobs=-1)]: Done 2170 tasks      | elapsed:  8.9min\n",
            "[Parallel(n_jobs=-1)]: Done 2584 tasks      | elapsed: 10.4min\n",
            "[Parallel(n_jobs=-1)]: Done 3034 tasks      | elapsed: 12.3min\n",
            "[Parallel(n_jobs=-1)]: Done 3520 tasks      | elapsed: 14.3min\n",
            "[Parallel(n_jobs=-1)]: Done 3735 out of 3735 | elapsed: 15.3min finished\n"
          ],
          "name": "stderr"
        }
      ]
    },
    {
      "cell_type": "code",
      "metadata": {
        "id": "5WDBrbwvL0eT",
        "colab_type": "code",
        "colab": {
          "base_uri": "https://localhost:8080/",
          "height": 369
        },
        "outputId": "923d68fb-ac8b-4f32-f4f5-2df26a1c3202"
      },
      "source": [
        "plt.figure(figsize=(15,5))\n",
        "librosa.display.specshow(librosa.amplitude_to_db(dp.cqts[0], ref=np.max),\n",
        "                         sr=16000, x_axis='time', y_axis='cqt_note')\n",
        "plt.colorbar(format='%+2.0f dB')\n",
        "plt.title('Constant-Q power spectrum')\n",
        "plt.tight_layout()\n",
        "plt.show()"
      ],
      "execution_count": 12,
      "outputs": [
        {
          "output_type": "display_data",
          "data": {
            "image/png": "[encoded data removed]",
            "text/plain": [
              "<Figure size 1080x360 with 2 Axes>"
            ]
          },
          "metadata": {
            "tags": [],
            "needs_background": "light"
          }
        }
      ]
    },
    {
      "cell_type": "code",
      "metadata": {
        "id": "kwHA7FboL5UN",
        "colab_type": "code",
        "colab": {}
      },
      "source": [
        "X_train, X_test, y_train, y_test = train_test_split(X,y,test_size=0.2)\n",
        "X_train = torch.from_numpy(np.array(X_train))\n",
        "X_test = torch.from_numpy(np.array(X_test))\n",
        "\n",
        "temp_train = []\n",
        "temp_test = []\n",
        "for i in y_train:\n",
        "    temp_train.append(i)\n",
        "for i in y_test:\n",
        "    temp_test.append(i)\n",
        "y_train = torch.tensor(temp_train)\n",
        "y_test = torch.tensor(temp_test)"
      ],
      "execution_count": 0,
      "outputs": []
    },
    {
      "cell_type": "code",
      "metadata": {
        "id": "BckYae2zL7A0",
        "colab_type": "code",
        "colab": {}
      },
      "source": [
        "train_dataset = torch.utils.data.TensorDataset(X_train, y_train)\n",
        "test_dataset = torch.utils.data.TensorDataset(X_test, y_test)\n",
        "batch_size = 200\n",
        "# Data loaders\n",
        "train_loader = DataLoader(train_dataset,\n",
        "                          batch_size=batch_size, shuffle=True)\n",
        "test_loader = DataLoader(test_dataset,\n",
        "                         batch_size=batch_size, shuffle=False)"
      ],
      "execution_count": 0,
      "outputs": []
    },
    {
      "cell_type": "code",
      "metadata": {
        "id": "ULK4w77uTclp",
        "colab_type": "code",
        "colab": {}
      },
      "source": [
        "# Testing model\n",
        "def test( class_predictor, device, test_loader):\n",
        "    class_predictor.eval()\n",
        "    test_loss = 0\n",
        "    correct = 0\n",
        "    with torch.no_grad():\n",
        "        for data, target in test_loader:\n",
        "            data = data.reshape(data.shape[0],data.shape[1],1)\n",
        "            data = data.to(device)\n",
        "            labels = target\n",
        "            target =  labels.clone().detach().squeeze().to(device).long()\n",
        "            output = model(data.float())\n",
        "\n",
        "            correct += torch.round(torch.sigmoid(output)).eq(target).sum().item()\n",
        "    return 100. * correct / (len(test_loader.dataset) * 128)"
      ],
      "execution_count": 0,
      "outputs": []
    },
    {
      "cell_type": "code",
      "metadata": {
        "id": "z_-b_EZwTes_",
        "colab_type": "code",
        "colab": {}
      },
      "source": [
        "use_cuda = torch.cuda.is_available()\n",
        "device = torch.device(\"cuda\" if use_cuda else \"cpu\")"
      ],
      "execution_count": 0,
      "outputs": []
    },
    {
      "cell_type": "code",
      "metadata": {
        "id": "JHB4yDckTgx6",
        "colab_type": "code",
        "colab": {}
      },
      "source": [
        "def calculate_avg_accuracy(results, target):\n",
        "    correct = np.zeros(len(results[0]))\n",
        "    correct = np.add(correct,torch.eq(results,target).sum(dim=0).detach().cpu().numpy())\n",
        "    correct /= len(results)\n",
        "    return correct"
      ],
      "execution_count": 0,
      "outputs": []
    },
    {
      "cell_type": "code",
      "metadata": {
        "id": "KjjDOKqgTh_7",
        "colab_type": "code",
        "colab": {
          "base_uri": "https://localhost:8080/",
          "height": 1000
        },
        "outputId": "9d2abac1-6fee-4aa5-823c-6c78aa6992a0"
      },
      "source": [
        "model = ANN(252,nn.LeakyReLU(),107,nn.Dropout(), nn.BatchNorm1d(512)).to(device)\n",
        "optimizer = optim.Adam(model.parameters(),lr=0.001)\n",
        "epoch_num = 20\n",
        "log_interval = 200\n",
        "pos_weigth = torch.Tensor([50]*107).to(device)\n",
        "loss_function = nn.BCEWithLogitsLoss(pos_weight=pos_weigth)\n",
        "\n",
        "losses = []\n",
        "accuracies = []\n",
        "for epoch in range(epoch_num):\n",
        "    model.train()\n",
        "    accuracy = 0\n",
        "    correct = np.zeros(107)\n",
        "    for batch_idx, (data, target) in enumerate(train_loader):\n",
        "        \n",
        "        data = data.reshape(data.shape[0],data.shape[1],1)\n",
        "        data = data.to(device)\n",
        "        labels = target\n",
        "        target =  labels.clone().detach().squeeze().to(device).long()\n",
        "        \n",
        "        optimizer.zero_grad()\n",
        "        output = model(data.float())\n",
        "        \n",
        "        loss = loss_function(output.float(), target.float())\n",
        "        loss.backward()\n",
        "        optimizer.step()\n",
        "\n",
        "        ### Train Accuracy \n",
        "        cur_accuracy = calculate_avg_accuracy(torch.round(torch.sigmoid(output)), target)\n",
        "        correct = np.add(correct,cur_accuracy)\n",
        "\n",
        "        \n",
        "        if batch_idx % log_interval == 0:\n",
        "            print('Train Epoch: {} [{}/{} ({:.0f}%)]\\tLoss: {:.6f}'.format(\n",
        "                epoch, batch_idx * len(data), len(train_loader.dataset),\n",
        "                       100. * batch_idx / len(train_loader), loss.item()))\n",
        "            losses.append(loss.item())\n",
        "    correct /= len(train_loader)\n",
        "    #print(correct)\n",
        "    accuracy = np.mean(correct)\n",
        "    train_accuracy = 100. * accuracy\n",
        "    test_accuracy = test(model,device,test_loader)\n",
        "    \n",
        "    print('Accuracy is {} on train_dataset'.format(train_accuracy), \"\\n\")\n"
      ],
      "execution_count": 19,
      "outputs": [
        {
          "output_type": "stream",
          "text": [
            "Train Epoch: 0 [0/504810 (0%)]\tLoss: 1.122823\n",
            "Train Epoch: 0 [40000/504810 (8%)]\tLoss: 0.880868\n",
            "Train Epoch: 0 [80000/504810 (16%)]\tLoss: 0.916813\n",
            "Train Epoch: 0 [120000/504810 (24%)]\tLoss: 0.824757\n",
            "Train Epoch: 0 [160000/504810 (32%)]\tLoss: 0.870318\n",
            "Train Epoch: 0 [200000/504810 (40%)]\tLoss: 0.894057\n",
            "Train Epoch: 0 [240000/504810 (48%)]\tLoss: 0.837333\n",
            "Train Epoch: 0 [280000/504810 (55%)]\tLoss: 0.890067\n",
            "Train Epoch: 0 [320000/504810 (63%)]\tLoss: 0.802304\n",
            "Train Epoch: 0 [360000/504810 (71%)]\tLoss: 0.801250\n",
            "Train Epoch: 0 [400000/504810 (79%)]\tLoss: 0.725784\n",
            "Train Epoch: 0 [440000/504810 (87%)]\tLoss: 0.857895\n",
            "Train Epoch: 0 [480000/504810 (95%)]\tLoss: 0.866880\n",
            "Accuracy is 98.69777921717238 on train_dataset \n",
            "\n",
            "Train Epoch: 1 [0/504810 (0%)]\tLoss: 0.875407\n",
            "Train Epoch: 1 [40000/504810 (8%)]\tLoss: 1.266725\n",
            "Train Epoch: 1 [80000/504810 (16%)]\tLoss: 0.835660\n",
            "Train Epoch: 1 [120000/504810 (24%)]\tLoss: 0.899526\n",
            "Train Epoch: 1 [160000/504810 (32%)]\tLoss: 0.836538\n",
            "Train Epoch: 1 [200000/504810 (40%)]\tLoss: 0.891999\n",
            "Train Epoch: 1 [240000/504810 (48%)]\tLoss: 0.863671\n",
            "Train Epoch: 1 [280000/504810 (55%)]\tLoss: 0.886831\n",
            "Train Epoch: 1 [320000/504810 (63%)]\tLoss: 0.858242\n",
            "Train Epoch: 1 [360000/504810 (71%)]\tLoss: 0.858871\n",
            "Train Epoch: 1 [400000/504810 (79%)]\tLoss: 0.894418\n",
            "Train Epoch: 1 [440000/504810 (87%)]\tLoss: 0.833542\n",
            "Train Epoch: 1 [480000/504810 (95%)]\tLoss: 0.842108\n",
            "Accuracy is 98.66091792356644 on train_dataset \n",
            "\n",
            "Train Epoch: 2 [0/504810 (0%)]\tLoss: 0.861911\n",
            "Train Epoch: 2 [40000/504810 (8%)]\tLoss: 0.792470\n",
            "Train Epoch: 2 [80000/504810 (16%)]\tLoss: 0.853013\n",
            "Train Epoch: 2 [120000/504810 (24%)]\tLoss: 0.951450\n",
            "Train Epoch: 2 [160000/504810 (32%)]\tLoss: 0.826658\n",
            "Train Epoch: 2 [200000/504810 (40%)]\tLoss: 0.847733\n",
            "Train Epoch: 2 [240000/504810 (48%)]\tLoss: 0.898615\n",
            "Train Epoch: 2 [280000/504810 (55%)]\tLoss: 1.176106\n",
            "Train Epoch: 2 [320000/504810 (63%)]\tLoss: 0.831639\n",
            "Train Epoch: 2 [360000/504810 (71%)]\tLoss: 0.879881\n",
            "Train Epoch: 2 [400000/504810 (79%)]\tLoss: 0.935804\n",
            "Train Epoch: 2 [440000/504810 (87%)]\tLoss: 0.945477\n",
            "Train Epoch: 2 [480000/504810 (95%)]\tLoss: 0.881653\n",
            "Accuracy is 98.50249282872056 on train_dataset \n",
            "\n",
            "Train Epoch: 3 [0/504810 (0%)]\tLoss: 1026.899292\n",
            "Train Epoch: 3 [40000/504810 (8%)]\tLoss: 0.862731\n",
            "Train Epoch: 3 [80000/504810 (16%)]\tLoss: 0.919823\n",
            "Train Epoch: 3 [120000/504810 (24%)]\tLoss: 0.787374\n",
            "Train Epoch: 3 [160000/504810 (32%)]\tLoss: 0.900699\n",
            "Train Epoch: 3 [200000/504810 (40%)]\tLoss: 0.889014\n",
            "Train Epoch: 3 [240000/504810 (48%)]\tLoss: 0.881556\n",
            "Train Epoch: 3 [280000/504810 (55%)]\tLoss: 0.819886\n",
            "Train Epoch: 3 [320000/504810 (63%)]\tLoss: 0.849304\n",
            "Train Epoch: 3 [360000/504810 (71%)]\tLoss: 0.877799\n",
            "Train Epoch: 3 [400000/504810 (79%)]\tLoss: 0.845690\n",
            "Train Epoch: 3 [440000/504810 (87%)]\tLoss: 0.878648\n",
            "Train Epoch: 3 [480000/504810 (95%)]\tLoss: 0.937771\n",
            "Accuracy is 98.54347552512102 on train_dataset \n",
            "\n",
            "Train Epoch: 4 [0/504810 (0%)]\tLoss: 0.783106\n",
            "Train Epoch: 4 [40000/504810 (8%)]\tLoss: 0.771675\n",
            "Train Epoch: 4 [80000/504810 (16%)]\tLoss: 0.868307\n",
            "Train Epoch: 4 [120000/504810 (24%)]\tLoss: 0.825203\n",
            "Train Epoch: 4 [160000/504810 (32%)]\tLoss: 0.844489\n",
            "Train Epoch: 4 [200000/504810 (40%)]\tLoss: 0.832002\n",
            "Train Epoch: 4 [240000/504810 (48%)]\tLoss: 0.880316\n",
            "Train Epoch: 4 [280000/504810 (55%)]\tLoss: 0.881983\n",
            "Train Epoch: 4 [320000/504810 (63%)]\tLoss: 0.884477\n",
            "Train Epoch: 4 [360000/504810 (71%)]\tLoss: 0.839014\n",
            "Train Epoch: 4 [400000/504810 (79%)]\tLoss: 0.873316\n",
            "Train Epoch: 4 [440000/504810 (87%)]\tLoss: 0.869324\n",
            "Train Epoch: 4 [480000/504810 (95%)]\tLoss: 0.882505\n",
            "Accuracy is 98.33760155454644 on train_dataset \n",
            "\n",
            "Train Epoch: 5 [0/504810 (0%)]\tLoss: 0.927278\n",
            "Train Epoch: 5 [40000/504810 (8%)]\tLoss: 0.929175\n",
            "Train Epoch: 5 [80000/504810 (16%)]\tLoss: 0.864022\n",
            "Train Epoch: 5 [120000/504810 (24%)]\tLoss: 0.826511\n",
            "Train Epoch: 5 [160000/504810 (32%)]\tLoss: 0.821673\n",
            "Train Epoch: 5 [200000/504810 (40%)]\tLoss: 0.864127\n",
            "Train Epoch: 5 [240000/504810 (48%)]\tLoss: 0.847835\n",
            "Train Epoch: 5 [280000/504810 (55%)]\tLoss: 0.851300\n",
            "Train Epoch: 5 [320000/504810 (63%)]\tLoss: 0.811003\n",
            "Train Epoch: 5 [360000/504810 (71%)]\tLoss: 0.924906\n",
            "Train Epoch: 5 [400000/504810 (79%)]\tLoss: 0.796890\n",
            "Train Epoch: 5 [440000/504810 (87%)]\tLoss: 0.893547\n",
            "Train Epoch: 5 [480000/504810 (95%)]\tLoss: 0.917389\n",
            "Accuracy is 98.3015638012384 on train_dataset \n",
            "\n",
            "Train Epoch: 6 [0/504810 (0%)]\tLoss: 0.984695\n",
            "Train Epoch: 6 [40000/504810 (8%)]\tLoss: 0.921431\n",
            "Train Epoch: 6 [80000/504810 (16%)]\tLoss: 0.903828\n",
            "Train Epoch: 6 [120000/504810 (24%)]\tLoss: 0.912044\n",
            "Train Epoch: 6 [160000/504810 (32%)]\tLoss: 0.903013\n",
            "Train Epoch: 6 [200000/504810 (40%)]\tLoss: 0.910144\n",
            "Train Epoch: 6 [240000/504810 (48%)]\tLoss: 0.823339\n",
            "Train Epoch: 6 [280000/504810 (55%)]\tLoss: 0.950996\n",
            "Train Epoch: 6 [320000/504810 (63%)]\tLoss: 0.901617\n",
            "Train Epoch: 6 [360000/504810 (71%)]\tLoss: 0.858659\n",
            "Train Epoch: 6 [400000/504810 (79%)]\tLoss: 0.811093\n",
            "Train Epoch: 6 [440000/504810 (87%)]\tLoss: 0.877277\n",
            "Train Epoch: 6 [480000/504810 (95%)]\tLoss: 0.865735\n",
            "Accuracy is 98.72963079485352 on train_dataset \n",
            "\n",
            "Train Epoch: 7 [0/504810 (0%)]\tLoss: 0.900132\n",
            "Train Epoch: 7 [40000/504810 (8%)]\tLoss: 0.921918\n",
            "Train Epoch: 7 [80000/504810 (16%)]\tLoss: 0.908313\n",
            "Train Epoch: 7 [120000/504810 (24%)]\tLoss: 0.861444\n",
            "Train Epoch: 7 [160000/504810 (32%)]\tLoss: 0.827717\n",
            "Train Epoch: 7 [200000/504810 (40%)]\tLoss: 0.911203\n",
            "Train Epoch: 7 [240000/504810 (48%)]\tLoss: 0.908026\n",
            "Train Epoch: 7 [280000/504810 (55%)]\tLoss: 0.943608\n",
            "Train Epoch: 7 [320000/504810 (63%)]\tLoss: 0.923502\n",
            "Train Epoch: 7 [360000/504810 (71%)]\tLoss: 0.918097\n",
            "Train Epoch: 7 [400000/504810 (79%)]\tLoss: 0.882203\n",
            "Train Epoch: 7 [440000/504810 (87%)]\tLoss: 0.911145\n",
            "Train Epoch: 7 [480000/504810 (95%)]\tLoss: 0.844006\n",
            "Accuracy is 98.73516794669953 on train_dataset \n",
            "\n",
            "Train Epoch: 8 [0/504810 (0%)]\tLoss: 0.839333\n",
            "Train Epoch: 8 [40000/504810 (8%)]\tLoss: 0.844705\n",
            "Train Epoch: 8 [80000/504810 (16%)]\tLoss: 0.928942\n",
            "Train Epoch: 8 [120000/504810 (24%)]\tLoss: 1.037909\n",
            "Train Epoch: 8 [160000/504810 (32%)]\tLoss: 0.946982\n",
            "Train Epoch: 8 [200000/504810 (40%)]\tLoss: 0.888409\n",
            "Train Epoch: 8 [240000/504810 (48%)]\tLoss: 0.872894\n",
            "Train Epoch: 8 [280000/504810 (55%)]\tLoss: 0.965382\n",
            "Train Epoch: 8 [320000/504810 (63%)]\tLoss: 0.975970\n",
            "Train Epoch: 8 [360000/504810 (71%)]\tLoss: 0.988074\n",
            "Train Epoch: 8 [400000/504810 (79%)]\tLoss: 0.917637\n",
            "Train Epoch: 8 [440000/504810 (87%)]\tLoss: 0.842447\n",
            "Train Epoch: 8 [480000/504810 (95%)]\tLoss: 0.912893\n",
            "Accuracy is 98.75063569908222 on train_dataset \n",
            "\n",
            "Train Epoch: 9 [0/504810 (0%)]\tLoss: 0.879776\n",
            "Train Epoch: 9 [40000/504810 (8%)]\tLoss: 0.875986\n",
            "Train Epoch: 9 [80000/504810 (16%)]\tLoss: 0.925465\n",
            "Train Epoch: 9 [120000/504810 (24%)]\tLoss: 0.836573\n",
            "Train Epoch: 9 [160000/504810 (32%)]\tLoss: 0.809098\n",
            "Train Epoch: 9 [200000/504810 (40%)]\tLoss: 0.842938\n",
            "Train Epoch: 9 [240000/504810 (48%)]\tLoss: 0.836761\n",
            "Train Epoch: 9 [280000/504810 (55%)]\tLoss: 0.973878\n",
            "Train Epoch: 9 [320000/504810 (63%)]\tLoss: 0.883259\n",
            "Train Epoch: 9 [360000/504810 (71%)]\tLoss: 0.857186\n",
            "Train Epoch: 9 [400000/504810 (79%)]\tLoss: 0.888114\n",
            "Train Epoch: 9 [440000/504810 (87%)]\tLoss: 0.860347\n",
            "Train Epoch: 9 [480000/504810 (95%)]\tLoss: 0.873992\n",
            "Accuracy is 98.75544369390042 on train_dataset \n",
            "\n",
            "Train Epoch: 10 [0/504810 (0%)]\tLoss: 0.877834\n",
            "Train Epoch: 10 [40000/504810 (8%)]\tLoss: 0.892686\n",
            "Train Epoch: 10 [80000/504810 (16%)]\tLoss: 0.866875\n",
            "Train Epoch: 10 [120000/504810 (24%)]\tLoss: 0.850463\n",
            "Train Epoch: 10 [160000/504810 (32%)]\tLoss: 0.838000\n",
            "Train Epoch: 10 [200000/504810 (40%)]\tLoss: 0.885479\n",
            "Train Epoch: 10 [240000/504810 (48%)]\tLoss: 0.908740\n",
            "Train Epoch: 10 [280000/504810 (55%)]\tLoss: 0.869327\n",
            "Train Epoch: 10 [320000/504810 (63%)]\tLoss: 0.948693\n",
            "Train Epoch: 10 [360000/504810 (71%)]\tLoss: 0.898946\n",
            "Train Epoch: 10 [400000/504810 (79%)]\tLoss: 0.873867\n",
            "Train Epoch: 10 [440000/504810 (87%)]\tLoss: 0.966627\n",
            "Train Epoch: 10 [480000/504810 (95%)]\tLoss: 0.849052\n",
            "Accuracy is 98.73982603867695 on train_dataset \n",
            "\n",
            "Train Epoch: 11 [0/504810 (0%)]\tLoss: 0.887593\n",
            "Train Epoch: 11 [40000/504810 (8%)]\tLoss: 0.886748\n",
            "Train Epoch: 11 [80000/504810 (16%)]\tLoss: 0.903378\n",
            "Train Epoch: 11 [120000/504810 (24%)]\tLoss: 0.815735\n",
            "Train Epoch: 11 [160000/504810 (32%)]\tLoss: 0.841763\n",
            "Train Epoch: 11 [200000/504810 (40%)]\tLoss: 0.851650\n",
            "Train Epoch: 11 [240000/504810 (48%)]\tLoss: 0.873118\n",
            "Train Epoch: 11 [280000/504810 (55%)]\tLoss: 0.898774\n",
            "Train Epoch: 11 [320000/504810 (63%)]\tLoss: 0.852831\n",
            "Train Epoch: 11 [360000/504810 (71%)]\tLoss: 0.911293\n",
            "Train Epoch: 11 [400000/504810 (79%)]\tLoss: 0.929566\n",
            "Train Epoch: 11 [440000/504810 (87%)]\tLoss: 0.893097\n",
            "Train Epoch: 11 [480000/504810 (95%)]\tLoss: 0.888029\n",
            "Accuracy is 98.73972795410215 on train_dataset \n",
            "\n",
            "Train Epoch: 12 [0/504810 (0%)]\tLoss: 0.862480\n",
            "Train Epoch: 12 [40000/504810 (8%)]\tLoss: 0.842602\n",
            "Train Epoch: 12 [80000/504810 (16%)]\tLoss: 0.985905\n",
            "Train Epoch: 12 [120000/504810 (24%)]\tLoss: 0.860878\n",
            "Train Epoch: 12 [160000/504810 (32%)]\tLoss: 0.924859\n",
            "Train Epoch: 12 [200000/504810 (40%)]\tLoss: 0.874029\n",
            "Train Epoch: 12 [240000/504810 (48%)]\tLoss: 0.850396\n",
            "Train Epoch: 12 [280000/504810 (55%)]\tLoss: 0.876600\n",
            "Train Epoch: 12 [320000/504810 (63%)]\tLoss: 0.901049\n",
            "Train Epoch: 12 [360000/504810 (71%)]\tLoss: 0.865126\n",
            "Train Epoch: 12 [400000/504810 (79%)]\tLoss: 0.911710\n",
            "Train Epoch: 12 [440000/504810 (87%)]\tLoss: 0.852505\n",
            "Train Epoch: 12 [480000/504810 (95%)]\tLoss: 0.907093\n",
            "Accuracy is 98.75941889515887 on train_dataset \n",
            "\n",
            "Train Epoch: 13 [0/504810 (0%)]\tLoss: 0.884883\n",
            "Train Epoch: 13 [40000/504810 (8%)]\tLoss: 0.874529\n",
            "Train Epoch: 13 [80000/504810 (16%)]\tLoss: 0.897709\n",
            "Train Epoch: 13 [120000/504810 (24%)]\tLoss: 0.785456\n",
            "Train Epoch: 13 [160000/504810 (32%)]\tLoss: 0.892651\n",
            "Train Epoch: 13 [200000/504810 (40%)]\tLoss: 0.806305\n",
            "Train Epoch: 13 [240000/504810 (48%)]\tLoss: 0.845090\n",
            "Train Epoch: 13 [280000/504810 (55%)]\tLoss: 0.841273\n",
            "Train Epoch: 13 [320000/504810 (63%)]\tLoss: 0.841619\n",
            "Train Epoch: 13 [360000/504810 (71%)]\tLoss: 1.025817\n",
            "Train Epoch: 13 [400000/504810 (79%)]\tLoss: 0.999288\n",
            "Train Epoch: 13 [440000/504810 (87%)]\tLoss: 0.864133\n",
            "Train Epoch: 13 [480000/504810 (95%)]\tLoss: 0.867027\n",
            "Accuracy is 98.76485611177772 on train_dataset \n",
            "\n",
            "Train Epoch: 14 [0/504810 (0%)]\tLoss: 1.011309\n",
            "Train Epoch: 14 [40000/504810 (8%)]\tLoss: 0.850793\n",
            "Train Epoch: 14 [80000/504810 (16%)]\tLoss: 0.854511\n",
            "Train Epoch: 14 [120000/504810 (24%)]\tLoss: 0.958480\n",
            "Train Epoch: 14 [160000/504810 (32%)]\tLoss: 0.884014\n",
            "Train Epoch: 14 [200000/504810 (40%)]\tLoss: 0.821454\n",
            "Train Epoch: 14 [240000/504810 (48%)]\tLoss: 0.907778\n",
            "Train Epoch: 14 [280000/504810 (55%)]\tLoss: 0.871159\n",
            "Train Epoch: 14 [320000/504810 (63%)]\tLoss: 0.933970\n",
            "Train Epoch: 14 [360000/504810 (71%)]\tLoss: 0.894096\n",
            "Train Epoch: 14 [400000/504810 (79%)]\tLoss: 0.855137\n",
            "Train Epoch: 14 [440000/504810 (87%)]\tLoss: 0.821676\n",
            "Train Epoch: 14 [480000/504810 (95%)]\tLoss: 0.947026\n",
            "Accuracy is 98.76790598685868 on train_dataset \n",
            "\n",
            "Train Epoch: 15 [0/504810 (0%)]\tLoss: 0.915354\n",
            "Train Epoch: 15 [40000/504810 (8%)]\tLoss: 0.924289\n",
            "Train Epoch: 15 [80000/504810 (16%)]\tLoss: 0.877339\n",
            "Train Epoch: 15 [120000/504810 (24%)]\tLoss: 0.910611\n",
            "Train Epoch: 15 [160000/504810 (32%)]\tLoss: 0.934670\n",
            "Train Epoch: 15 [200000/504810 (40%)]\tLoss: 0.916008\n",
            "Train Epoch: 15 [240000/504810 (48%)]\tLoss: 0.921314\n",
            "Train Epoch: 15 [280000/504810 (55%)]\tLoss: 0.865824\n",
            "Train Epoch: 15 [320000/504810 (63%)]\tLoss: 0.905701\n",
            "Train Epoch: 15 [360000/504810 (71%)]\tLoss: 0.837040\n",
            "Train Epoch: 15 [400000/504810 (79%)]\tLoss: 0.951668\n",
            "Train Epoch: 15 [440000/504810 (87%)]\tLoss: 0.987978\n",
            "Train Epoch: 15 [480000/504810 (95%)]\tLoss: 0.904879\n",
            "Accuracy is 98.77283612473227 on train_dataset \n",
            "\n",
            "Train Epoch: 16 [0/504810 (0%)]\tLoss: 0.907936\n",
            "Train Epoch: 16 [40000/504810 (8%)]\tLoss: 0.996983\n",
            "Train Epoch: 16 [80000/504810 (16%)]\tLoss: 0.853555\n",
            "Train Epoch: 16 [120000/504810 (24%)]\tLoss: 0.878040\n",
            "Train Epoch: 16 [160000/504810 (32%)]\tLoss: 0.850026\n",
            "Train Epoch: 16 [200000/504810 (40%)]\tLoss: 0.891804\n",
            "Train Epoch: 16 [240000/504810 (48%)]\tLoss: 0.870841\n",
            "Train Epoch: 16 [280000/504810 (55%)]\tLoss: 0.908131\n",
            "Train Epoch: 16 [320000/504810 (63%)]\tLoss: 0.985739\n",
            "Train Epoch: 16 [360000/504810 (71%)]\tLoss: 0.876078\n",
            "Train Epoch: 16 [400000/504810 (79%)]\tLoss: 0.897118\n",
            "Train Epoch: 16 [440000/504810 (87%)]\tLoss: 0.890762\n",
            "Train Epoch: 16 [480000/504810 (95%)]\tLoss: 0.893947\n",
            "Accuracy is 98.77997594151769 on train_dataset \n",
            "\n",
            "Train Epoch: 17 [0/504810 (0%)]\tLoss: 0.878087\n",
            "Train Epoch: 17 [40000/504810 (8%)]\tLoss: 0.904080\n",
            "Train Epoch: 17 [80000/504810 (16%)]\tLoss: 0.965100\n",
            "Train Epoch: 17 [120000/504810 (24%)]\tLoss: 0.949267\n",
            "Train Epoch: 17 [160000/504810 (32%)]\tLoss: 0.791241\n",
            "Train Epoch: 17 [200000/504810 (40%)]\tLoss: 0.832444\n",
            "Train Epoch: 17 [240000/504810 (48%)]\tLoss: 0.929568\n",
            "Train Epoch: 17 [280000/504810 (55%)]\tLoss: 0.895942\n",
            "Train Epoch: 17 [320000/504810 (63%)]\tLoss: 0.906473\n",
            "Train Epoch: 17 [360000/504810 (71%)]\tLoss: 0.951073\n",
            "Train Epoch: 17 [400000/504810 (79%)]\tLoss: 0.809400\n",
            "Train Epoch: 17 [440000/504810 (87%)]\tLoss: 0.916808\n",
            "Train Epoch: 17 [480000/504810 (95%)]\tLoss: 1.097869\n",
            "Accuracy is 98.75926899231807 on train_dataset \n",
            "\n",
            "Train Epoch: 18 [0/504810 (0%)]\tLoss: 0.910737\n",
            "Train Epoch: 18 [40000/504810 (8%)]\tLoss: 0.911498\n",
            "Train Epoch: 18 [80000/504810 (16%)]\tLoss: 0.963498\n",
            "Train Epoch: 18 [120000/504810 (24%)]\tLoss: 0.973496\n",
            "Train Epoch: 18 [160000/504810 (32%)]\tLoss: 0.951606\n",
            "Train Epoch: 18 [200000/504810 (40%)]\tLoss: 1.034821\n",
            "Train Epoch: 18 [240000/504810 (48%)]\tLoss: 0.921648\n",
            "Train Epoch: 18 [280000/504810 (55%)]\tLoss: 0.962989\n",
            "Train Epoch: 18 [320000/504810 (63%)]\tLoss: 0.908022\n",
            "Train Epoch: 18 [360000/504810 (71%)]\tLoss: 0.935544\n",
            "Train Epoch: 18 [400000/504810 (79%)]\tLoss: 0.943458\n",
            "Train Epoch: 18 [440000/504810 (87%)]\tLoss: 1.010808\n",
            "Train Epoch: 18 [480000/504810 (95%)]\tLoss: 1.057396\n",
            "Accuracy is 98.72481909873063 on train_dataset \n",
            "\n",
            "Train Epoch: 19 [0/504810 (0%)]\tLoss: 0.924742\n",
            "Train Epoch: 19 [40000/504810 (8%)]\tLoss: 0.891195\n",
            "Train Epoch: 19 [80000/504810 (16%)]\tLoss: 0.925475\n",
            "Train Epoch: 19 [120000/504810 (24%)]\tLoss: 1.010773\n",
            "Train Epoch: 19 [160000/504810 (32%)]\tLoss: 0.954784\n",
            "Train Epoch: 19 [200000/504810 (40%)]\tLoss: 0.945546\n",
            "Train Epoch: 19 [240000/504810 (48%)]\tLoss: 0.972172\n",
            "Train Epoch: 19 [280000/504810 (55%)]\tLoss: 0.917351\n",
            "Train Epoch: 19 [320000/504810 (63%)]\tLoss: 0.869453\n",
            "Train Epoch: 19 [360000/504810 (71%)]\tLoss: 0.920953\n",
            "Train Epoch: 19 [400000/504810 (79%)]\tLoss: 0.823430\n",
            "Train Epoch: 19 [440000/504810 (87%)]\tLoss: 0.928375\n",
            "Train Epoch: 19 [480000/504810 (95%)]\tLoss: 0.903534\n",
            "Accuracy is 98.75379291199977 on train_dataset \n",
            "\n"
          ],
          "name": "stdout"
        }
      ]
    },
    {
      "cell_type": "code",
      "metadata": {
        "id": "LXus0pTVTmrG",
        "colab_type": "code",
        "colab": {}
      },
      "source": [
        "def eval(class_predictor,device,test_loader,threshold):\n",
        "    class_predictor.eval()\n",
        "    test_loss = 0\n",
        "    correct = 0\n",
        "    all_predicted = []\n",
        "    predicted_probs = []\n",
        "    one = torch.ones(1).to(device)\n",
        "    zero = torch.zeros(1).to(device)\n",
        "    with torch.no_grad():\n",
        "        for data, target in test_loader:\n",
        "            data = data.reshape(data.shape[0],data.shape[1],1)\n",
        "            data = data.to(device)\n",
        "            labels = target\n",
        "            target = labels.clone().detach().squeeze().to(device).long()\n",
        "            output = model(data.float())\n",
        "            predicted = torch.where(torch.sigmoid(output)>threshold,one,zero).cpu().data.numpy()\n",
        "            predicted_probs.extend(torch.sigmoid(output).detach().cpu().numpy().tolist())\n",
        "            all_predicted.extend(predicted)\n",
        "    return all_predicted,predicted_probs"
      ],
      "execution_count": 0,
      "outputs": []
    },
    {
      "cell_type": "code",
      "metadata": {
        "id": "35EARriiTpbo",
        "colab_type": "code",
        "colab": {}
      },
      "source": [
        "predictions,probs = eval(model,device,test_loader, 0.4859)\n",
        "probs_class = [x[50] for x in probs]\n",
        "true_class = [x[50] for x in y_test]\n",
        "fpr, tpr, thresholds = roc_curve(true_class, probs_class,)"
      ],
      "execution_count": 0,
      "outputs": []
    },
    {
      "cell_type": "code",
      "metadata": {
        "id": "KkrDnr15T4tc",
        "colab_type": "code",
        "colab": {
          "base_uri": "https://localhost:8080/",
          "height": 282
        },
        "outputId": "a592c921-c155-4f35-cb9f-c17775131eec"
      },
      "source": [
        "plt.plot(thresholds, tpr)"
      ],
      "execution_count": 166,
      "outputs": [
        {
          "output_type": "execute_result",
          "data": {
            "text/plain": [
              "[<matplotlib.lines.Line2D at 0x7f6840570be0>]"
            ]
          },
          "metadata": {
            "tags": []
          },
          "execution_count": 166
        },
        {
          "output_type": "display_data",
          "data": {
            "image/png": "[encoded data removed]",
            "text/plain": [
              "<Figure size 432x288 with 1 Axes>"
            ]
          },
          "metadata": {
            "tags": [],
            "needs_background": "light"
          }
        }
      ]
    },
    {
      "cell_type": "code",
      "metadata": {
        "id": "TH-_98dpT5NO",
        "colab_type": "code",
        "colab": {
          "base_uri": "https://localhost:8080/",
          "height": 282
        },
        "outputId": "a9f16ab5-0a05-428d-8792-f528ecb983e9"
      },
      "source": [
        "plt.plot(thresholds, fpr)"
      ],
      "execution_count": 167,
      "outputs": [
        {
          "output_type": "execute_result",
          "data": {
            "text/plain": [
              "[<matplotlib.lines.Line2D at 0x7f67d1dea9b0>]"
            ]
          },
          "metadata": {
            "tags": []
          },
          "execution_count": 167
        },
        {
          "output_type": "display_data",
          "data": {
            "image/png": "[encoded data removed]",
            "text/plain": [
              "<Figure size 432x288 with 1 Axes>"
            ]
          },
          "metadata": {
            "tags": [],
            "needs_background": "light"
          }
        }
      ]
    },
    {
      "cell_type": "code",
      "metadata": {
        "id": "CZFmwiH3T6ic",
        "colab_type": "code",
        "colab": {
          "base_uri": "https://localhost:8080/",
          "height": 282
        },
        "outputId": "064f7410-1a13-40b7-ac10-9b212f32294b"
      },
      "source": [
        "plt.plot(fpr,tpr)"
      ],
      "execution_count": 168,
      "outputs": [
        {
          "output_type": "execute_result",
          "data": {
            "text/plain": [
              "[<matplotlib.lines.Line2D at 0x7f6946149da0>]"
            ]
          },
          "metadata": {
            "tags": []
          },
          "execution_count": 168
        },
        {
          "output_type": "display_data",
          "data": {
            "image/png": "[encoded data removed]",
            "text/plain": [
              "<Figure size 432x288 with 1 Axes>"
            ]
          },
          "metadata": {
            "tags": [],
            "needs_background": "light"
          }
        }
      ]
    },
    {
      "cell_type": "code",
      "metadata": {
        "id": "hSjIhHAKT7q2",
        "colab_type": "code",
        "colab": {
          "base_uri": "https://localhost:8080/",
          "height": 34
        },
        "outputId": "b059f425-f82b-4487-a423-dcc186cf3be6"
      },
      "source": [
        "auc_score = auc(fpr,tpr)\n",
        "auc_score"
      ],
      "execution_count": 169,
      "outputs": [
        {
          "output_type": "execute_result",
          "data": {
            "text/plain": [
              "0.31825575450395804"
            ]
          },
          "metadata": {
            "tags": []
          },
          "execution_count": 169
        }
      ]
    },
    {
      "cell_type": "code",
      "metadata": {
        "id": "pivv5rAFT83B",
        "colab_type": "code",
        "colab": {}
      },
      "source": [
        "pred_class = [x[50] for x in predictions]\n",
        "true_class = [x[50] for x in y_test]"
      ],
      "execution_count": 0,
      "outputs": []
    },
    {
      "cell_type": "code",
      "metadata": {
        "id": "M5X4iWBqT-rK",
        "colab_type": "code",
        "colab": {}
      },
      "source": [
        "true_positive,false_positive,false_negative, true_negative = 0,0,0,0\n",
        "for i in range(len(pred_class)):\n",
        "    if pred_class[i] == true_class[i] and pred_class[i] == 0:\n",
        "        true_negative += 1\n",
        "    if pred_class[i] == true_class[i] and pred_class[i] == 1:\n",
        "        true_positive += 1\n",
        "    if pred_class[i] != true_class[i] and pred_class[i] == 0:\n",
        "        false_negative += 1\n",
        "    if pred_class[i] != true_class[i] and pred_class[i] == 1:\n",
        "        false_positive += 1"
      ],
      "execution_count": 0,
      "outputs": []
    },
    {
      "cell_type": "code",
      "metadata": {
        "id": "SKfOIeTzUDWr",
        "colab_type": "code",
        "colab": {
          "base_uri": "https://localhost:8080/",
          "height": 84
        },
        "outputId": "fb4b8af0-1c5c-40be-953d-3bc6cc7c628b"
      },
      "source": [
        "print('true_negative: ', true_negative)\n",
        "print('true_positive: ', true_positive)\n",
        "print('false_positive: ', false_positive)\n",
        "print('false_negative: ', false_negative)"
      ],
      "execution_count": 172,
      "outputs": [
        {
          "output_type": "stream",
          "text": [
            "true_negative:  19252\n",
            "true_positive:  1687\n",
            "false_positive:  104535\n",
            "false_negative:  729\n"
          ],
          "name": "stdout"
        }
      ]
    },
    {
      "cell_type": "code",
      "metadata": {
        "id": "oSCZAHM8UFCo",
        "colab_type": "code",
        "colab": {
          "base_uri": "https://localhost:8080/",
          "height": 67
        },
        "outputId": "20b1d991-d99b-4bf1-a03e-d41897af5bc6"
      },
      "source": [
        "precision = true_positive/(false_positive+true_positive)\n",
        "recall = true_positive/(true_positive+false_negative)\n",
        "f1_score = 2*(precision*recall)/(precision+recall)\n",
        "print('Precision: ', precision)\n",
        "print('Recall: ', recall)\n",
        "print('F-score: ', f1_score)"
      ],
      "execution_count": 173,
      "outputs": [
        {
          "output_type": "stream",
          "text": [
            "Precision:  0.015881832388770688\n",
            "Recall:  0.6982615894039735\n",
            "F-score:  0.031057272777481174\n"
          ],
          "name": "stdout"
        }
      ]
    }
  ]
}